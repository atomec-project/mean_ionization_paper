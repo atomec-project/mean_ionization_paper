{
 "cells": [
  {
   "cell_type": "markdown",
   "id": "ac0d53fc",
   "metadata": {},
   "source": [
    "# Average atom models: Theoretical background\n",
    "\n",
    "In this section, we describe the average-atom model that we use and the equations that are solved. For a detailed derivation and discussion of the model, please see our earlier [preprint](https://arxiv.org/abs/2103.09928).\n",
    "\n",
    "As discussed in the main test, we solve the spherically symmetric Kohn--Sham (KS) equations for an atom at finite temperature, with appropriate boundary conditions imposed on the orbitals intended to mimic the effect of interactions from electrons and nuclei in neighbouring atoms. The spherically symmetric KS equations are given by\n",
    "\n",
    "\\begin{equation}\n",
    "\\left[\\frac{\\textrm{d}^2}{\\textrm{d}r} + \\frac{2}{r}\\frac{\\textrm{d}}{\\textrm{d}r} - \\frac{l(l+1)}{r^2} \\right] X_{\\epsilon nl}(r) + 2 \\left[\\epsilon^{\\tau}_{knl} - v_\\textrm{s}[n](r) \\right] X_{\\epsilon nl}(r) = 0,\n",
    "\\end{equation}\n",
    "\n",
    "where $v_\\textrm{s}[n](r)$ is the KS potential, given by\n",
    "\n",
    "\\begin{equation}\n",
    " v_{\\textrm{s}}[n](r) = -\\frac{Z}{r} + 4\\pi \\int_0^{R_\\textrm{WS}} \\textrm{d}{x} \\frac{n(x)x^2}{r^>(x)} + \\frac{\\delta F_\\textrm{xc}^\\tau [n]}{\\delta n(r)}\\,,\n",
    "\\end{equation}\n",
    "\n",
    "where $r^>(x)=\\max(r,x)$. The three terms in the potential are respectively the electron-nuclear attraction, the classical Hartree repulsion, and the exchange-correlation (xc) potential, which is equal to the functional derivative of the xc free energy. As ever, due to the dependence of the KS potential on the density $n(r)$, the KS equations must be solved iteratively until self-consistency is reached.\n",
    "\n",
    "One difference from the model presented in our earlier [preprint](https://arxiv.org/abs/2103.09928) is that the orbitals now have an index $\\epsilon$, in addition to the $n,l$ quantum numbers. This index is needed for the AA band-structure model, because it denotes the index of a given orbital within its energy band. If we do not employ the band-strucutre model, then this index is suppressed.\n",
    "\n",
    "In the general case, the density $n(r)$ is constructed from the KS orbitals as\n",
    "\n",
    "\\begin{equation}\n",
    "    n(r) = 2\\sum_{nl}(2l+1)\n",
    "    \\int_{\\epsilon_{nl}^-}^{\\epsilon_{nl}^+} \\textrm{d}{\\epsilon} g_{nl}(\\epsilon) f_{nl}(\\epsilon,\\mu,\\tau) |X_{nl\\epsilon}(r)|^2\\,,\n",
    "\\end{equation}\n",
    "\n",
    "where $g_{nl}(\\epsilon)$ is the density-of-states (DOS) and $f_{nl}(\\epsilon,\\mu,\\tau)$ the Fermi--Dirac (FD) distribution, given by\n",
    "\n",
    "\\begin{equation}\n",
    "f_{nl}(\\epsilon,\\mu,\\tau) = \\frac{1}{1+e^{(\\epsilon_{nl}-\\mu)/\\tau}}\\,.\n",
    "\\end{equation}\n",
    "\n",
    "The chemical potential $\\mu$ is determined by fixing the electron number $N_\\textrm{e}=4\\pi\\int\\textrm{d}r r^2 n(r)$ to be equal to a pre-determined value (in this paper, $N_\\textrm{e}=Z$ in all cases). In practice, the integral in the density is expressed as a sum over discrete orbitals,\n",
    "\n",
    "\\begin{equation}\n",
    " n(r) = 2\\sum_{knl}(2l+1) w_{knl} g_{knl}(\\epsilon_{knl},\\epsilon_{nl}^\\pm) f_{knl}(\\epsilon_{knl},\\mu,\\tau) |X_{knl}(r)|^2\\,,\n",
    "\\end{equation}\n",
    "\n",
    "where $w_{knl}$ is the integration weighting for the $k$-th index (with energy $\\epsilon_{knl}$) of the $(n,l)$ energy band. We shall soon explain how the limits of the band energies $\\epsilon_{nl}^\\pm$ are determined. When the band-structure model is not employed, the product $w_{knl} g_{knl}(\\epsilon_{knl}, \\epsilon_{nl}^\\pm)\\equiv 1$ and hence the above expression simplifies to the more familiar expression for the density,\n",
    "\n",
    "\\begin{equation}\n",
    "n(r) = 2\\sum_{nl}(2l+1) f_{nl}(\\epsilon_{nl},\\mu,\\tau) |X_{nl}(r)|^2\\,.\n",
    "\\end{equation}\n",
    "\n",
    "If the band-structure model is used, then the DOS function is given by\n",
    "\n",
    "\\begin{gather}\n",
    "g_{knl}(\\epsilon_{knl},\\epsilon_{nl}^\\pm) =\\frac{2}{ \\pi (\\epsilon^+_{nl}-\\epsilon_{nl}^-)^2} \\sqrt{(\\epsilon^+_{nl}-\\epsilon_{knl})(\\epsilon_{knl} - \\epsilon^-_{nl})}\\,.\n",
    "\\end{gather}\n",
    "\n",
    "As discussed, we impose boundary conditions on the KS orbitals $X_{nl}(r)$ which are intended to implicitly account for inter-atomic interactions. In our earlier [preprint](https://arxiv.org/abs/2103.09928), we argued that a physically intuitive condition was to impose smoothness of the density at the edge of the WS cell,\n",
    "\n",
    "\\begin{equation}\n",
    "\\frac{\\textrm{d}n(r)}{\\textrm{d}r}\\Bigg|_{r=R_\\textrm{WS}} =0\\,.\n",
    "\\end{equation}\n",
    "\n",
    "Mathematically there is no unique way to enforce the above condition, but two simple choices are\n",
    "\n",
    "\\begin{align}\n",
    "0&=X_{nl}(R_\\textrm{VS})\\,, \\\\\n",
    "0&=\\frac{\\textrm{d}X_{nl}(r)}{\\textrm{d}r}\\Bigg|_{r=R_\\textrm{WS}}\\,,\n",
    "\\end{align}\n",
    "\n",
    "which we refer to respectively as \"Dirichlet\" and \"Neumann\" conditions. As discussed in the main text, the energy eigenvalues that result from these boundary conditions also define the upper and lower energy band limits $\\epsilon^{\\pm}_{nl}$ for the band-structure model."
   ]
  },
  {
   "cell_type": "markdown",
   "id": "2f9faf38",
   "metadata": {},
   "source": [
    "# Introduction to atoMEC\n",
    "\n",
    "For all calculations in the paper, we have used the open source average-atom code atoMEC. It can be downloaded\n",
    "[here](https://github.com/atomec-project/atoMEC).\n",
    "\n",
    "In this section, we go through the basics of setting up and then running a calcuation in atoMEC.\n",
    "\n",
    "We first create an `Atom` object which houses the key physical information about the system we want to study, i.e. the temperature and mass density. We start with Aluminium at room temperature:"
   ]
  },
  {
   "cell_type": "code",
   "execution_count": null,
   "id": "9c697a01",
   "metadata": {},
   "outputs": [],
   "source": [
    "%load_ext autoreload\n",
    "%autoreload 2"
   ]
  },
  {
   "cell_type": "code",
   "execution_count": null,
   "id": "630dfeb6",
   "metadata": {},
   "outputs": [],
   "source": [
    "# import the Atom object\n",
    "from atoMEC import Atom\n",
    "\n",
    "# set up the Aluminium atom\n",
    "Al_atom = Atom(\"Al\", 300, density=2.7, units_temp=\"K\")"
   ]
  },
  {
   "cell_type": "markdown",
   "id": "4757403b",
   "metadata": {},
   "source": [
    "We see this prints some key information about our system, including for example the ionic coupling and electron degeneracy parameters, which are important in warm dense matter (WDM). For details of how these are computed see our initial [preprint](https://arxiv.org/abs/2103.09928) on AA models and documentation in the code.\n",
    "\n",
    "Next we set up a `model` object, which contains input regarding which approximations we use in our model, for example the boundary condition and exchange-correlation (XC) approximation."
   ]
  },
  {
   "cell_type": "code",
   "execution_count": null,
   "id": "66bcec41",
   "metadata": {},
   "outputs": [],
   "source": [
    "# import models\n",
    "from atoMEC import models\n",
    "\n",
    "# set up the ISModel\n",
    "Al_model = models.ISModel(\n",
    "    Al_atom, bc=\"dirichlet\", unbound=\"quantum\", xfunc_id=\"lda_x\", cfunc_id=\"lda_c_pw\"\n",
    ")"
   ]
  },
  {
   "cell_type": "markdown",
   "id": "50af0f57",
   "metadata": {},
   "source": [
    "In the above, we have set up an ion-sphere model (`ISModel`) which so far is the only kind of AA model implemented in atoMEC. Furthermore, we have specified the following approximations:\n",
    "\n",
    "* `unbound=\"quantum\"`: This means all our KS orbitals are treated in the same way, regardless of their energy\n",
    "* `bc=\"dirichlet\"`: The Dirichlet boundary condition (as described in the main text) is applied to the orbitals\n",
    "* `xfunc_id=\"lda_x\"`, `cfunc_id=\"lda_c_pw\"`: We have chosen the LDA XC functional \n",
    "\n",
    "We are now ready to run an SCF calculation, which is done by the `CalcEnergy` function. There are various inputs to this function which control numerical aspects, such as the number of grid points and SCF convergence parameters. Most of these are optional so we use the default values for now.\n",
    "\n",
    "The two parameters which must be specified are the maximal value of the principal and angular quantum numbers, `nmax` and `lmax`. atoMEC will search for all the eigenvalues in the range $0<n<\\textrm{nmax}$, $0<l<\\textrm{lmax}$. Since we have a system at room temperature we do not need to include lots of states so we set `nmax=5`, `lmax=3`."
   ]
  },
  {
   "cell_type": "code",
   "execution_count": null,
   "id": "61e2198b",
   "metadata": {},
   "outputs": [],
   "source": [
    "# set the values of nmax and lmax\n",
    "nmax = 5\n",
    "lmax = 3\n",
    "\n",
    "# run the SCF calculation\n",
    "output = Al_model.CalcEnergy(nmax, lmax, scf_params={\"mixfrac\": 0.6, \"maxscf\": 50})"
   ]
  },
  {
   "cell_type": "markdown",
   "id": "1dc65f84",
   "metadata": {},
   "source": [
    "In the above, at each step of the SCF (self-consistent field) cycle, the spherically symmetric KS equations are solved for the chosen boundary condition (Eq. (2) of the main paper). In atoMEC, we solve the KS equations on a logarithmic grid to give more weight to the points nearest the origin, i.e. $x=\\log(r)$. Furthermore, we make a transformation of the orbitals $P_{nl}(x) = X_{nl}(x)\\exp(x/2)$. Then the equations to be solve become:\n",
    "\n",
    "\\begin{gather}\n",
    "\\frac{\\textrm{d}^2 P_{nl}(x)}{\\textrm{d}x^2} - 2e^{2x}(W(x)-\\epsilon_{nl})P_{nl}(x)=0\\,,\\\\\n",
    "W(x) = v_\\textrm{s}[n](x) + \\frac{1}{2}\\left(l+\\frac{1}{2}\\right)^2 e^{-2x}\n",
    "\\end{gather}\n",
    "\n",
    "In atoMEC, we solve the KS equations using a matrix implementation of Numerov's algorithm as described in [this paper](https://aapt.scitation.org/doi/full/10.1119/1.4748813?casa_token=UMs6bxc3iB0AAAAA%3AonvjnFq-KyEXZpEzUfGfyqQoNrMoP6AI0Wi7nrZrILOCM9Ah55XACGen5VLr-civFUtr2sVuCpw). This means we diagonalize the following equation:\n",
    "\\begin{align}\n",
    "\\hat{H}\\vec{P} &= \\vec{\\epsilon} \\hat{B} \\vec{P} \\\\\n",
    "\\hat{H} &= \\hat{T} + \\hat{B} + W_\\textrm{s}(\\vec{x}) \\\\\n",
    "\\hat{T} &= -\\frac{1}{2} e^{-2\\vec{x}} \\hat{A} \\\\\n",
    "\\hat{A} &= \\frac{\\hat{I}_{-1} -2\\hat{I}_0 + \\hat{I}_1}{\\textrm{d}x^2} \\\\\n",
    "\\hat{B} &= \\frac{\\hat{I}_{-1} +10\\hat{I}_0 + \\hat{I}_1}{12}\\,,\n",
    "\\end{align}\n",
    "where $\\hat{I}_{-1/0/1}$ are lower shift, identify and upper shift matrices.\n",
    "\n",
    "Since the Hamiltonian matrix $H$ is sparse and we only seek the lowest lying eigenvalues, there is no need to perform a full diagonalization which scales with $\\mathcal{O}(N^3)$, with $N$ being the size of the radial grid. Instead, we use a sparse matrix diagonalization routine from the [SciPy](https://scipy.org/) library, which scales more efficiently and allows us to go to larger grid sizes (and hence better convergence).\n",
    "\n",
    "After each step in the SCF cycle, the relative changes in the free energy $F$, density $n$ and potential $v_\\textrm{s}$ are computed. Specifically, the quantities computed are\n",
    "\n",
    "\\begin{align}\n",
    "    \\Delta F &= \\left|\\frac{F^{i}-F^{i-1}}{F^{i}}\\right| \\\\\n",
    "    \\Delta n &= \\frac{\\int \\mathrm{d}r|n^i(r)-n^{i-1}(r)|}{\\int \\mathrm{d}r n^i(r)}\\\\\n",
    "    \\Delta v &= \\frac{\\int \\mathrm{d}r|v^i_\\textrm{s}(r)-v_\\textrm{s}^{i-1}(r)|}{\\int \\mathrm{d}r v_\\textrm{s}^i(r)}\n",
    "\\end{align}\n",
    "\n",
    "The values of these convergence parameters are controlled by the input parameter `conv_params` to the `CalcEnergy` function. For example, if we wanted to reduce the required convergence, we could call:\n",
    "\n",
    "`output=Al_model.CalcEnergy(nmax, lmax, conv_params={\"econv\": 1e-4, \"nconv\": 1e-3, \"vconv\": 1e-3})`\n",
    "\n",
    "At each stage of the SCF cycle, the KS potential is mixed with some fraction of the KS potential from the previous iteration (which aids convergence), i.e. $v_\\textrm{s}(r) = \\alpha v^{i+1}_\\textrm{s}(r) + (1-\\alpha) v^i_\\textrm{s}(r)$, where $\\alpha$ is the mixing paramater. As seen above, this is controlled via the `scf_params` input parameter to the `CalcEnergy` function. This dictionary also accepts a `maxscf` key to terminate the SCF cycle after the requested number of iterations.\n",
    "\n",
    "At the end of the SCF cycle, various information is printed, such as the breakdown of the total free energy and the KS eigenvalues and their occupations. The printed ''Mean ionization state'' (MIS) output is calculated using the threshold method described in the main paper. We shall later see how to compute the MIS in atoMEC via the other methods described in the paper. The output of the `CalcEnergy` function is a dictionary containing information about the energy, density, potential and orbtials. For example, we can extract and plot the density from this output:"
   ]
  },
  {
   "cell_type": "code",
   "execution_count": null,
   "id": "8f036bb6",
   "metadata": {},
   "outputs": [],
   "source": [
    "# import matplotlib for plotting and numpy for analysis\n",
    "import matplotlib.pyplot as plt\n",
    "import numpy as np"
   ]
  },
  {
   "cell_type": "code",
   "execution_count": null,
   "id": "a72fdcbf",
   "metadata": {},
   "outputs": [],
   "source": [
    "# extract the density object\n",
    "dens_Al = output[\"density\"]\n",
    "\n",
    "# get the total density and grid\n",
    "dens_tot = dens_Al.total[0]\n",
    "xgrid = dens_Al._xgrid  # log grid\n",
    "rgrid = np.exp(xgrid)  # radial grid\n",
    "\n",
    "# plot the total density\n",
    "plt.plot(rgrid, rgrid ** 2 * dens_tot)\n",
    "\n",
    "# some formatting\n",
    "plt.xlim(0,3)\n",
    "plt.ylim(0,1.2)\n",
    "plt.xlabel(r'$r\\ (a_0)$')\n",
    "plt.ylabel(r'$r^2 n(r)\\ (a_0)^{-1}$')\n",
    "plt.show()"
   ]
  },
  {
   "cell_type": "markdown",
   "id": "1c9665b2",
   "metadata": {},
   "source": [
    "## Convergence testing\n",
    "\n",
    "There are various parameters which should be checked for convergence. For all the boundary conditions, the main ones are:\n",
    "\n",
    "* `nmax`: the maximum number of the principal quantum number `n`\n",
    "* `lmax`: the maximum number of the angular quantum number `l`\n",
    "* `grid_params`: dictionary parameter controlling the logarithmic grid, in particular the number of grid points `ngrid`\n",
    "\n",
    "Furthermore, for the `bands` boundary condition, there is the additional dictionary parameter `band_params`. The important property within this is `nkpts` number of 'k' points, which is the number of states that are computed within all energy bands (spaced linearly in energy) in our model.\n",
    "\n",
    "The convergence for the `nmax` and `lmax` paramaters can generally be chosen by eye, in other words by ensuring there are sufficient states such that the highest levels have (nearly) zero occoupations. Let us consider our Aluminium atom from earlier, but now we shall increase the temperature (so more orbitals are required)."
   ]
  },
  {
   "cell_type": "code",
   "execution_count": null,
   "id": "b9a145ae",
   "metadata": {},
   "outputs": [],
   "source": [
    "# set the temperature to 10 eV\n",
    "Al_atom.units_temp=\"eV\"\n",
    "Al_atom.temp = 10\n",
    "\n",
    "# run the calculation again\n",
    "output = Al_model.CalcEnergy(nmax, lmax, write_info=True)"
   ]
  },
  {
   "cell_type": "markdown",
   "id": "f826db56",
   "metadata": {},
   "source": [
    "In the above example, we see that `nmax=5` seems to be sufficiently large, but `lmax=2` is not, because the occupation of the $l=2,n=0$ state is 0.834, i.e. significantly above zero. We therefore choose a much larger value of `lmax` to check what is required for convergence. \n",
    "\n",
    "Since the diagonalization must be performed separately for every value of $0<l<\\textrm{lmax}$, the computational time is proportional to `lmax`. There is a simple kind of parallelization implemented in atoMEC, courtesy of the [joblib](https://joblib.readthedocs.io/en/latest/#) library, which parallelizes the calculation over `l` (and also spin if `model.spinpol=True`) and thus makes calculations more efficient. This is enabled by the `config.numcores` parameter. Setting `config.numcores=n` uses `n` cores; however, it is often easiest to set `config.numcores=-1` which uses all the available cores."
   ]
  },
  {
   "cell_type": "code",
   "execution_count": null,
   "id": "830bc526",
   "metadata": {},
   "outputs": [],
   "source": [
    "#enable parallelization\n",
    "from atoMEC import config\n",
    "config.numcores = -1\n",
    "\n",
    "# re-run the calculation with larger lmax\n",
    "lmax = 10\n",
    "output = Al_model.CalcEnergy(nmax, lmax)"
   ]
  },
  {
   "cell_type": "markdown",
   "id": "3fb68989",
   "metadata": {},
   "source": [
    "In the above, we clearly see that `lmax=10` is more than sufficient; in fact, it seems that `lmax=6` is enough in this case. Next, we shall test the convergence with respect to the number of grid points. We suppress the output from the SCF cycle since we shall run several calculations. If you are running this notebook, be patient as running all the calculations will take some time."
   ]
  },
  {
   "cell_type": "code",
   "execution_count": null,
   "id": "865e6693",
   "metadata": {},
   "outputs": [],
   "source": [
    "# set up the grid points to test over\n",
    "ngrid_test = np.arange(500, 4500, 500)\n",
    "\n",
    "# set up array to store the total energy, 1s core energy and chemical potential\n",
    "output_arr = np.zeros((len(ngrid_test), 4))\n",
    "\n",
    "# reset lmax to 6\n",
    "lmax = 6\n",
    "\n",
    "# loop over the ngrid array\n",
    "for i, ngrid in enumerate(ngrid_test):\n",
    "    print(\"Running calculation for \", ngrid, \"grid pts\")\n",
    "    output = Al_model.CalcEnergy(nmax, lmax, grid_params={\"ngrid\": ngrid}, write_info=False)\n",
    "    output_arr[i,0] = ngrid\n",
    "    output_arr[i,1] = output[\"energy\"].F_tot\n",
    "    output_arr[i,2] = output[\"orbitals\"].eigvals[0,0,0,0]\n",
    "    output_arr[i,3] = config.mu"
   ]
  },
  {
   "cell_type": "markdown",
   "id": "5ace2809",
   "metadata": {},
   "source": [
    "We tabulate the total energy, core $1s$ energy level and chemical potential $mu$ below to check their convergence with respect to the grid size."
   ]
  },
  {
   "cell_type": "code",
   "execution_count": null,
   "id": "5afe1d7c",
   "metadata": {},
   "outputs": [],
   "source": [
    "# import package to make nice tables\n",
    "import tabulate\n",
    "\n",
    "# define table headings\n",
    "headers = [\"ngrid\", \"F tot\", \"e_1s\", \"mu\"]\n",
    "\n",
    "# create table\n",
    "conv_tbl = tabulate.tabulate(\n",
    "    output_arr,\n",
    "    headers,\n",
    "    tablefmt=\"presto\",\n",
    "    floatfmt=[\"4.0f\", \"7.3f\", \"7.3f\", \"7.3f\"],\n",
    "    stralign=\"right\",\n",
    ")\n",
    "print(conv_tbl)"
   ]
  },
  {
   "cell_type": "markdown",
   "id": "32e67301",
   "metadata": {},
   "source": [
    "The degree of convergence required depends on various factors, such as the error that the user is willing to tolerate and the property that is being computed. In AA models, there are already a number of quite serious approximations which create uncertainty in the results, so typically we can use more relaxed convergence criteria than a full DFT-MD simulation. The property we are interested in for the purposes of this paper is the MIS, which is sensitive to the energy eigenvalues and chemical potential but not the total energy. Furthermore, we aim to benchmark our results agaist experiments which of course have some uncertainty for measurements of the free electron density.\n",
    "\n",
    "With the above factors taken into account, we typically aim for convergence of around $0.01\\ \\textrm{Ha}$ in the core $1s$ energy level and the chemical potential $\\mu$. Based on the above table, this indicates a reasonable choice is `ngrid=3000`. In theory, this number should be checked for each value of temperature and density calculated. In practise, it is reasonable to test it for a few select values in the temperature or density range spanned and interpolate to the other values.\n",
    "\n",
    "As mentioned, when the `bands` boundary condition is used, we must also test convergence with respect to the number of orbitals `nkpts` per band. We perform a similar convergence check to before, only now we shall we probe the lowest energy eigenvalue in the conduction band, instead of the $1s$ core energy level. This is because, under these conditions, the $1s$ level is fully isolated from the neighbouring spheres and so is not part of an energy band."
   ]
  },
  {
   "cell_type": "code",
   "execution_count": null,
   "id": "5594bba5",
   "metadata": {},
   "outputs": [],
   "source": [
    "# set up the nkpts array\n",
    "nkpts_arr = np.arange(10,110,10)\n",
    "\n",
    "# change the boundary condition\n",
    "Al_model.bc = \"bands\"\n",
    "\n",
    "# reset the output array\n",
    "output_arr = np.zeros((len(nkpts_arr), 4))\n",
    "\n",
    "# loop over the nkpts array\n",
    "# use a coarse value of ngrid since we are performing an independent kpt check\n",
    "for i, nkpts in enumerate(nkpts_arr):\n",
    "    print(\"Running calculation for \", nkpts, \"orbitals per band\")\n",
    "    output = Al_model.CalcEnergy(nmax, lmax, grid_params={\"ngrid\": 1000}, write_info=False, band_params={\"nkpts\":nkpts})\n",
    "    output_arr[i,0] = nkpts\n",
    "    output_arr[i,1] = output[\"energy\"].F_tot\n",
    "    output_arr[i,2] = output[\"orbitals\"].eigvals[0,0,0,2]\n",
    "    output_arr[i,3] = config.mu"
   ]
  },
  {
   "cell_type": "code",
   "execution_count": null,
   "id": "c1680038",
   "metadata": {},
   "outputs": [],
   "source": [
    "# create table\n",
    "headers = [\"nkpts\", \"F tot\", \"e_c\", \"mu\"]\n",
    "conv_tbl = tabulate.tabulate(\n",
    "    output_arr,\n",
    "    headers,\n",
    "    tablefmt=\"presto\",\n",
    "    floatfmt=[\"4.0f\", \"7.3f\", \"7.3f\", \"7.3f\"],\n",
    "    stralign=\"right\",\n",
    ")\n",
    "print(conv_tbl)"
   ]
  },
  {
   "cell_type": "markdown",
   "id": "99f8d344",
   "metadata": {},
   "source": [
    "We see from the above that, for this example, the quantities of interest are very well converged already with `nkpts=20`. However, the time taken is almost identical regardless of the number of $k$-points used. This is because the computationally dominant step is actually the diagonalization of the Hamiltonian, which is required to find the limits of the band energies. Therefore we are free to choose a relatively large value of `nkpts` without much affect on the computational demands. Typically the default value of `nkpts=50` in atoMEC is a reasonable choice. "
   ]
  },
  {
   "cell_type": "markdown",
   "id": "1a0a892c",
   "metadata": {},
   "source": [
    "# Mean ionization state comparisons\n",
    "\n",
    "In the previous section, we introduced the basics of running a calculation in atoMEC to compute various quantities such as the KS orbitals and the density. In this section, we explain how to compute the MIS in atoMEC via the various methods described in the paper. Afterwards, we provide the input (and output) for the calculations that were done in the paper, so that the reader can reproduce these results.\n",
    "\n",
    "## Calculation of MIS using the threshold method\n",
    "\n",
    "As seen in Eq. (1) of the main paper, the MIS can be computed as the integral over all the positive energy states:\n",
    "\n",
    "\\begin{equation}\n",
    "\\bar{Z} = \\int_{v(R_\\textrm{WS})}^\\infty g(\\epsilon) f_\\textrm{FD}(\\epsilon)\\,,\n",
    "\\end{equation}\n",
    "\n",
    "where $g(\\epsilon)$ is the density-of-states (DOS), $f_\\textrm{FD}(\\epsilon)$ the Fermi--Dirac distribution, and $v(R_\\textrm{WS})$ the value of the potential at the Wigner--Seitz (WS) radius.\n",
    "\n",
    "In atoMEC, when `unbound=\"quantum\"`, all the orbitals are treated identically. The integral in the above equation therefore becomes a sum over all the states with energies above $v(R_\\textrm{WS})$,\n",
    "\n",
    "\\begin{equation}\n",
    "\\bar{Z} = \\sum_{k,\\sigma,l,n} (2l+1) w_{k\\sigma ln} g_{k\\sigma ln} f_{k\\sigma ln} \\Theta(\\epsilon_{k\\sigma ln}-v(R_\\textrm{WS}))\\,,\n",
    "\\end{equation}\n",
    "\n",
    "where $\\Theta$ is the Heaviside step function. The four indices $k,\\sigma,l,n$ of the various orbital dependent quantities are respectively the $k$-point index of the band, and the spin, angular momentum and principal quantum numbers. $w_{k\\sigma ln}$ is the $k$-point integral weighting for the `\"bands\"` boundary condition. For the `\"dirichlet\"` and `\"neumann\"` conditions, both this integral weighting and the DOS $g_{k\\sigma ln}$ are identically one (in this case, there is only ever a single $k$ point since there are no bands).\n",
    "\n",
    "As was seen in the earlier examples, the MIS calculate via the threshold method is printed by default at the end of every SCF run anyway. It is also a property of the `staticKS.Density` object so can be accessed through that if desired. For example, using the density of the existing output:"
   ]
  },
  {
   "cell_type": "code",
   "execution_count": null,
   "id": "9cae421d",
   "metadata": {},
   "outputs": [],
   "source": [
    "# first set up and run a calculation\n",
    "\n",
    "# set the values of nmax and lmax\n",
    "nmax = 5\n",
    "lmax = 3\n",
    "\n",
    "# run the SCF calculation\n",
    "output = Al_model.CalcEnergy(\n",
    "    nmax, lmax, scf_params={\"mixfrac\": 0.6, \"maxscf\": 50}, grid_params={\"ngrid\": 2000}\n",
    ")"
   ]
  },
  {
   "cell_type": "code",
   "execution_count": null,
   "id": "2855582f",
   "metadata": {},
   "outputs": [],
   "source": [
    "# extract the MIS\n",
    "MIS = output[\"density\"].MIS\n",
    "\n",
    "# print the 1st array element (only element in a spin unpolarized calculation)\n",
    "print(\"MIS = \", round(MIS[0], 2))"
   ]
  },
  {
   "cell_type": "markdown",
   "id": "872a82fe",
   "metadata": {},
   "source": [
    "## Calculation of MIS using the electron localization function\n",
    "\n",
    "As seen in Eq. (4) of the main paper, the electron localization function (ELF) is defined as\n",
    "\n",
    "\\begin{gather}\n",
    "\\textrm{ELF}(r) = \\frac{1}{1+[D(\\vec{r})/D_0(\\vec{r})]^2}\\,,\\textrm{ with} \\\\\n",
    "D(\\vec{r}) = D_0(\\vec{r}) - \\frac{1}{9} \\frac{|\\nabla n(\\vec{r})^2|}{n(\\vec{r})} + \\frac{1}{6}\\nabla^2 n(\\vec{r})\\,, \\textrm{ and} \\\\\n",
    "D_0(\\vec{r}) = \\frac{3}{10}(3\\pi^2)^{2/3} n^{5/3}(r)\\,.\n",
    "\\end{gather}\n",
    "\n",
    "For a spherically symmetric system, $D_0(r)=D_0(\\vec{r})$ and the expression for $D(r)$ becomes\n",
    "\n",
    "\\begin{equation}\n",
    "D(r) = D_0(r) - \\frac{1}{9} \\frac{1}{n(r)} \\left| \\frac{\\textrm{d}n(r)}{\\textrm{d}r}\\right|^2 + \\frac{1}{6} \\left(  \\frac{2}{r} \\frac{\\textrm{d}n(r)}{\\textrm{d}r} +  \\frac{\\textrm{d}^2 n(r)}{\\textrm{d}r^2}\\right)\\,.\n",
    "\\end{equation}\n",
    "\n",
    "In atoMEC the ELF is accessed through the `postprocess.localization` module. In the following, we calculate and plot the ELF for our Aluminium example. "
   ]
  },
  {
   "cell_type": "code",
   "execution_count": null,
   "id": "81062afd",
   "metadata": {},
   "outputs": [],
   "source": [
    "# import localization module\n",
    "from atoMEC.postprocess import localization\n",
    "\n",
    "# Set up the ELF object\n",
    "# use the \"density\" version of the ELF (uses second order gradient expansion for KED)\n",
    "\n",
    "ELF_Al = localization.ELFTools(output[\"orbitals\"], output[\"density\"], method=\"density\")\n",
    "xgrid = ELF_Al._xgrid\n",
    "rgrid = np.exp(xgrid)\n",
    "\n",
    "# extract the ELF function\n",
    "ELF_func = ELF_Al.ELF\n",
    "\n",
    "# plot the ELF function\n",
    "plt.plot(rgrid, ELF_func[0])\n",
    "\n",
    "plt.xlim(-0.01,3.01)\n",
    "plt.ylim(-0.01,1.01)\n",
    "plt.xlabel(r\"$r\\ (a_0)$\")\n",
    "plt.ylabel(r\"ELF$(r)$\")\n",
    "plt.show()"
   ]
  },
  {
   "cell_type": "markdown",
   "id": "0f7c369c",
   "metadata": {},
   "source": [
    "The next stage is to use the ELF to compute the number of electrons in a given shell. This is done by finding the positions of the minima of the ELF, and integrating the density between them, as explained in the main paper. In atoMEC, we can access this data from the `N_shell` property of the `ELFTools` object:"
   ]
  },
  {
   "cell_type": "code",
   "execution_count": null,
   "id": "7ad787f0",
   "metadata": {},
   "outputs": [],
   "source": [
    "# extract the number of electrons per shell\n",
    "N_s = ELF_Al.N_shell[0]\n",
    "\n",
    "for i in range(len(N_s)):\n",
    "    print(\"The number of electrons in the n =\",i+1,\"shell =\",round(N_s[i],2))"
   ]
  },
  {
   "cell_type": "markdown",
   "id": "77e2f187",
   "metadata": {},
   "source": [
    "These numbers approximately match up to what we expect from ambient Aluminium: 2 electrons in the $n=1$ shell, 8 in the $n=2$ shell, and the remaining 3 electrons in the conduction band (which we call the $n=3$ shell here). As discussed in the main paper, extracting the MIS from this output requires some user input based on physical intuition, to decide which shells should be counted as bound and which free. We shall explain our choices in the results section."
   ]
  },
  {
   "cell_type": "markdown",
   "id": "d3363c7b",
   "metadata": {},
   "source": [
    "## Calculation of the MIS using the Kubo--Greenwood formula\n",
    "\n"
   ]
  }
 ],
 "metadata": {
  "kernelspec": {
   "display_name": "Python 3 (ipykernel)",
   "language": "python",
   "name": "python3"
  },
  "language_info": {
   "codemirror_mode": {
    "name": "ipython",
    "version": 3
   },
   "file_extension": ".py",
   "mimetype": "text/x-python",
   "name": "python",
   "nbconvert_exporter": "python",
   "pygments_lexer": "ipython3",
   "version": "3.8.10"
  }
 },
 "nbformat": 4,
 "nbformat_minor": 5
}
