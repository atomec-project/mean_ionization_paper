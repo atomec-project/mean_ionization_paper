{
 "cells": [
  {
   "cell_type": "markdown",
   "id": "2f9faf38",
   "metadata": {},
   "source": [
    "# Introduction to atoMEC\n",
    "\n",
    "For all calculations in the paper, we have used the open source average-atom code atoMEC. It can be downloaded\n",
    "[here](https://github.com/atomec-project/atoMEC).\n",
    "\n",
    "In this section, we go through the basics of setting up and then running a calcuation in atoMEC.\n",
    "\n",
    "We first create an `Atom` object which houses the key physical information about the system we want to study, i.e. the temperature and mass density. We start with Aluminium at room temperature:"
   ]
  },
  {
   "cell_type": "code",
   "execution_count": null,
   "id": "630dfeb6",
   "metadata": {},
   "outputs": [],
   "source": [
    "# import the Atom object\n",
    "from atoMEC import Atom\n",
    "\n",
    "# set up the Aluminium atom\n",
    "Al_atom = Atom(\"Al\", 300, density=2.7, units_temp=\"K\")"
   ]
  },
  {
   "cell_type": "markdown",
   "id": "4757403b",
   "metadata": {},
   "source": [
    "We see this prints some key information about our system, including for example the ionic coupling and electron degeneracy parameters, which are important in warm dense matter (WDM). For details of how these are computed see our initial [preprint](https://arxiv.org/abs/2103.09928) on AA models and documentation in the code.\n",
    "\n",
    "Next we set up a `model` object, which contains input regarding which approximations we use in our model, for example the boundary condition and exchange-correlation (XC) approximation."
   ]
  },
  {
   "cell_type": "code",
   "execution_count": null,
   "id": "66bcec41",
   "metadata": {},
   "outputs": [],
   "source": [
    "# import models\n",
    "from atoMEC import models\n",
    "\n",
    "# set up the ISModel\n",
    "Al_model = models.ISModel(\n",
    "    Al_atom, bc=\"dirichlet\", unbound=\"quantum\", xfunc_id=\"lda_x\", cfunc_id=\"lda_c_pw\"\n",
    ")"
   ]
  },
  {
   "cell_type": "markdown",
   "id": "50af0f57",
   "metadata": {},
   "source": [
    "In the above, we have set up an ion-sphere model (`ISModel`) which so far is the only kind of AA model implemented in atoMEC. Furthermore, we have specified the following approximations:\n",
    "\n",
    "* `unbound=\"quantum\"`: This means all our KS orbitals are treated in the same way, regardless of their energy\n",
    "* `bc=\"dirichlet\"`: The Dirichlet boundary condition (as described in the main text) is applied to the orbitals\n",
    "* `xfunc_id=\"lda_x\"`, `cfunc_id=\"lda_c_pw\"`: We have chosen the LDA XC functional \n",
    "\n",
    "We are now ready to run an SCF calculation, which is done by the `CalcEnergy` function. There are various inputs to this function which control numerical aspects, such as the number of grid points and SCF convergence parameters. Most of these are optional so we use the default values for now.\n",
    "\n",
    "The two parameters which must be specified are the maximal value of the principal and angular quantum numbers, `nmax` and `lmax`. atoMEC will search for all the eigenvalues in the range $0<n<\\textrm{nmax}$, $0<l<\\textrm{lmax}$. Since we have a system at room temperature we do not need to include lots of states so we set `nmax=5`, `lmax=3`."
   ]
  },
  {
   "cell_type": "code",
   "execution_count": null,
   "id": "61e2198b",
   "metadata": {},
   "outputs": [],
   "source": [
    "# set the values of nmax and lmax\n",
    "nmax = 5\n",
    "lmax = 3\n",
    "\n",
    "# run the SCF calculation\n",
    "output = Al_model.CalcEnergy(nmax, lmax, scf_params={\"mixfrac\": 0.6, \"maxscf\": 50})"
   ]
  },
  {
   "cell_type": "markdown",
   "id": "1dc65f84",
   "metadata": {},
   "source": [
    "In the above, at each step of the SCF (self-consistent field) cycle, the spherically symmetric KS equations are solved for the chosen boundary condition (Eq. (2) of the main paper). In atoMEC, we solve the KS equations on a logarithmic grid to give more weight to the points nearest the origin, i.e. $x=\\log(r)$. Furthermore, we make a transformation of the orbitals $P_{nl}(x) = X_{nl}(x)\\exp(x/2)$. Then the equations to be solve become:\n",
    "\n",
    "\\begin{gather}\n",
    "\\frac{\\textrm{d}^2 P_{nl}(x)}{\\textrm{d}x^2} - 2e^{2x}(W(x)-\\epsilon_{nl})P_{nl}(x)=0\\,,\\\\\n",
    "W(x) = v_\\textrm{s}[n](x) + \\frac{1}{2}\\left(l+\\frac{1}{2}\\right)^2 e^{-2x}\n",
    "\\end{gather}\n",
    "\n",
    "In atoMEC, we solve the KS equations using a matrix implementation of Numerov's algorithm as described in [this paper](https://aapt.scitation.org/doi/full/10.1119/1.4748813?casa_token=UMs6bxc3iB0AAAAA%3AonvjnFq-KyEXZpEzUfGfyqQoNrMoP6AI0Wi7nrZrILOCM9Ah55XACGen5VLr-civFUtr2sVuCpw). This means we diagonalize the following equation:\n",
    "\\begin{align}\n",
    "\\hat{H}\\vec{P} &= \\vec{\\epsilon} \\hat{B} \\vec{P} \\\\\n",
    "\\hat{H} &= \\hat{T} + \\hat{B} + W_\\textrm{s}(\\vec{x}) \\\\\n",
    "\\hat{T} &= -\\frac{1}{2} e^{-2\\vec{x}} \\hat{A} \\\\\n",
    "\\hat{A} &= \\frac{\\hat{I}_{-1} -2\\hat{I}_0 + \\hat{I}_1}{\\textrm{d}x^2} \\\\\n",
    "\\hat{B} &= \\frac{\\hat{I}_{-1} +10\\hat{I}_0 + \\hat{I}_1}{12}\\,,\n",
    "\\end{align}\n",
    "where $\\hat{I}_{-1/0/1}$ are lower shift, identify and upper shift matrices.\n",
    "\n",
    "Since the Hamiltonian matrix $H$ is sparse and we only seek the lowest lying eigenvalues, there is no need to perform a full diagonalization which scales with $\\mathcal{O}(N^3)$, with $N$ being the size of the radial grid. Instead, we use a sparse matrix diagonalization routine from the [SciPy](https://scipy.org/) library, which scales more efficiently and allows us to go to larger grid sizes (and hence better convergence).\n",
    "\n",
    "After each step in the SCF cycle, the relative changes in the free energy $F$, density $n$ and potential $v_\\textrm{s}$ are computed. Specifically, the quantities computed are\n",
    "\n",
    "\\begin{align}\n",
    "    \\Delta F &= \\left|\\frac{F^{i}-F^{i-1}}{F^{i}}\\right| \\\\\n",
    "    \\Delta n &= \\frac{\\int \\mathrm{d}r|n^i(r)-n^{i-1}(r)|}{\\int \\mathrm{d}r n^i(r)}\\\\\n",
    "    \\Delta v &= \\frac{\\int \\mathrm{d}r|v^i_\\textrm{s}(r)-v_\\textrm{s}^{i-1}(r)|}{\\int \\mathrm{d}r v_\\textrm{s}^i(r)}\n",
    "\\end{align}\n",
    "\n",
    "The values of these convergence parameters are controlled by the input parameter `conv_params` to the `CalcEnergy` function. For example, if we wanted to reduce the required convergence, we could call:\n",
    "\n",
    "`output=Al_model.CalcEnergy(nmax, lmax, conv_params={\"econv\": 1e-4, \"nconv\": 1e-3, \"vconv\": 1e-3})`\n",
    "\n",
    "At each stage of the SCF cycle, the KS potential is mixed with some fraction of the KS potential from the previous iteration (which aids convergence), i.e. $v_\\textrm{s}(r) = \\alpha v^{i+1}_\\textrm{s}(r) + (1-\\alpha) v^i_\\textrm{s}(r)$, where $\\alpha$ is the mixing paramater. As seen above, this is controlled via the `scf_params` input parameter to the `CalcEnergy` function. This dictionary also accepts a `maxscf` key to terminate the SCF cycle after the requested number of iterations.\n",
    "\n",
    "At the end of the SCF cycle, various information is printed, such as the breakdown of the total free energy and the KS eigenvalues and their occupations. The printed ''Mean ionization state'' (MIS) output is calculated using the threshold method described in the main paper. We shall later see how to compute the MIS in atoMEC via the other methods described in the paper. The output of the `CalcEnergy` function is a dictionary containing information about the energy, density, potential and orbtials. For example, we can extract and plot the density from this output:"
   ]
  },
  {
   "cell_type": "code",
   "execution_count": null,
   "id": "da9e1256",
   "metadata": {},
   "outputs": [],
   "source": [
    "# import matplotlib for plotting and numpy for analysis\n",
    "import matplotlib.pyplot as plt\n",
    "import numpy as np"
   ]
  },
  {
   "cell_type": "code",
   "execution_count": null,
   "id": "5f4d17b4",
   "metadata": {},
   "outputs": [],
   "source": [
    "# extract the density object\n",
    "dens_Al = output[\"density\"]\n",
    "\n",
    "# get the total density and grid\n",
    "dens_tot = dens_Al.total[0]\n",
    "xgrid = dens_Al._xgrid  # log grid\n",
    "rgrid = np.exp(xgrid)  # radial grid\n",
    "\n",
    "# plot the total density\n",
    "plt.plot(rgrid, rgrid ** 2 * dens_tot)\n",
    "\n",
    "# some formatting\n",
    "plt.xlim(0,3)\n",
    "plt.ylim(0,1.2)\n",
    "plt.xlabel(r'$a_0$')\n",
    "plt.ylabel(r'$r^2 n(r)\\ (a_0)^{-1}$')\n",
    "plt.show()"
   ]
  },
  {
   "cell_type": "markdown",
   "id": "d2eb6b83",
   "metadata": {},
   "source": [
    "## Convergence testing\n",
    "\n",
    "There are various parameters which should be checked for convergence. For all the boundary conditions, the main ones are:\n",
    "\n",
    "* `nmax`: the maximum number of the principal quantum number `n`\n",
    "* `lmax`: the maximum number of the angular quantum number `l`\n",
    "* `grid_params`: dictionary parameter controlling the logarithmic grid, in particular the number of grid points `ngrid`\n",
    "\n",
    "Furthermore, for the `bands` boundary condition, there is the additional dictionary parameter `band_params`. The important property within this is `nkpts` number of 'k' points, which is the number of states that are computed within all energy bands (spaced linearly in energy) in our model.\n",
    "\n",
    "The convergence for the `nmax` and `lmax` paramaters can generally be chosen by eye, in other words by ensuring there are sufficient states such that the highest levels have (nearly) zero occoupations. Let us consider our Aluminium atom from earlier, but now we shall increase the temperature (so more orbitals are required)."
   ]
  },
  {
   "cell_type": "code",
   "execution_count": null,
   "id": "31e3d5c6",
   "metadata": {},
   "outputs": [],
   "source": [
    "# set the temperature to 10 eV\n",
    "Al_atom.units_temp=\"eV\"\n",
    "Al_atom.temp = 10\n",
    "\n",
    "# run the calculation again\n",
    "output = Al_model.CalcEnergy(nmax, lmax, write_info=True)"
   ]
  },
  {
   "cell_type": "markdown",
   "id": "978f66ea",
   "metadata": {},
   "source": [
    "In the above example, we see that `nmax=5` seems to be sufficiently large, but `lmax=2` is not, because the occupation of the $l=2,n=0$ state is 0.834, i.e. significantly above zero. We therefore choose a much larger value of `lmax` to check what is required for convergence. \n",
    "\n",
    "Since the diagonalization must be performed separately for every value of $0<l<\\textrm{lmax}$, the computational time is proportional to `lmax`. There is a simple kind of parallelization implemented in atoMEC, courtesy of the [joblib](https://joblib.readthedocs.io/en/latest/#) library, which parallelizes the calculation over `l` (and also spin if `model.spinpol=True`) and thus makes calculations more efficient. This is enabled by the `config.numcores` parameter. Setting `config.numcores=n` uses `n` cores; however, it is often easiest to set `config.numcores=-1` which uses all the available cores."
   ]
  },
  {
   "cell_type": "code",
   "execution_count": null,
   "id": "e3e8989d",
   "metadata": {},
   "outputs": [],
   "source": [
    "#enable parallelization\n",
    "from atoMEC import config\n",
    "config.numcores = -1\n",
    "\n",
    "# re-run the calculation with larger lmax\n",
    "lmax = 10\n",
    "output = Al_model.CalcEnergy(nmax, lmax)"
   ]
  },
  {
   "cell_type": "code",
   "execution_count": null,
   "id": "13019c63",
   "metadata": {},
   "outputs": [],
   "source": []
  }
 ],
 "metadata": {
  "kernelspec": {
   "display_name": "Python 3 (ipykernel)",
   "language": "python",
   "name": "python3"
  },
  "language_info": {
   "codemirror_mode": {
    "name": "ipython",
    "version": 3
   },
   "file_extension": ".py",
   "mimetype": "text/x-python",
   "name": "python",
   "nbconvert_exporter": "python",
   "pygments_lexer": "ipython3",
   "version": "3.8.10"
  }
 },
 "nbformat": 4,
 "nbformat_minor": 5
}
