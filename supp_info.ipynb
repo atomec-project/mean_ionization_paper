{
 "cells": [
  {
   "cell_type": "markdown",
   "metadata": {},
   "source": [
    "In this supplementary information, which can also be downloaded and run as a Jupyter notebook [here](https://github.com/atomec-project/mean_ionization_paper/blob/main/supp_info.ipynb) (link to be made public upon publication), we demonstrate how to use our average-atom code atoMEC to compute the MIS using the different methods described in the main paper. We also provide all the necessary inputs to reproduce the results in the paper.\n",
    "\n",
    "There are (roughly-speaking) four parts in this supplementary material:\n",
    "\n",
    "1. Convergence testing\n",
    "2. Mean ionization state methods\n",
    "3. Results: SCF calculations\n",
    "4. Results: Mean ionization state calculations\n",
    "\n",
    "First, we load the Python libraries and atoMEC modules which are required to run this notebook, as well as some general set-up:"
   ]
  },
  {
   "cell_type": "code",
   "execution_count": 1,
   "metadata": {},
   "outputs": [],
   "source": [
    "# reload source code when it changes\n",
    "%load_ext autoreload\n",
    "%autoreload 2\n",
    "\n",
    "# general imports\n",
    "import sys\n",
    "import os\n",
    "import matplotlib.pyplot as plt\n",
    "import numpy as np\n",
    "import MIS_plots\n",
    "\n",
    "# atoMEC imports\n",
    "from atoMEC import Atom, models, config\n",
    "from atoMEC.postprocess import localization, conductivity\n",
    "\n",
    "# parallelize over the maximum number of cores\n",
    "config.numcores = -1\n",
    "\n",
    "# set the default printing output\n",
    "default_stdout = sys.stdout\n",
    "# base directory:\n",
    "basedir = os.getcwd()"
   ]
  },
  {
   "cell_type": "markdown",
   "metadata": {},
   "source": [
    "## Convergence testing\n",
    "\n",
    "We start by detailing how to converge calculations in atoMEC, and the criteria we used in this paper. There are various parameters which should be checked for convergence. For all the boundary conditions, the main ones are:\n",
    "\n",
    "* `nmax`: the maximum number of the principal quantum number $n$\n",
    "* `lmax`: the maximum number of the angular quantum number $l$\n",
    "* `grid_params`: dictionary parameter controlling the logarithmic grid, in particular the number of grid points `ngrid`\n",
    "\n",
    "Furthermore, for the `bands` boundary condition, there is the additional dictionary parameter `band_params`. The important property within this is `nkpts` number of 'k' points, which is the number of states that are computed within all energy bands (spaced linearly in energy) in our model.\n",
    "\n",
    "The convergence for the `nmax` and `lmax` paramaters can generally be chosen by eye, in other words by ensuring there are sufficient states such that the highest levels have (nearly) zero occoupations. Let us consider Aluminium at 10 eV and its ambient mass density, $2.7\\ \\textrm{g cm}^{-3}$."
   ]
  },
  {
   "cell_type": "code",
   "execution_count": 2,
   "metadata": {},
   "outputs": [
    {
     "name": "stdout",
     "output_type": "stream",
     "text": [
      "\n",
      "Welcome to atoMEC! \n",
      "\n",
      "Atomic information:\n",
      " \n",
      "Atomic species                : Al \n",
      "Atomic charge / weight        : 13  / 26.982\n",
      "Valence electrons             : 3  \n",
      "Mass density                  : 2.7 g cm^-3\n",
      "Voronoi sphere radius         : 2.997 Bohr / 1.586 Angstrom\n",
      "Electronic temperature        : 0.3675 Ha /  10 eV / 1.16e+05 K\n",
      "Wigner-Seitz radius           : 2.078 (Bohr)\n",
      "Ionic coupling parameter      : 76.71\n",
      "Electron degeneracy parameter : 0.8619\n",
      "\n",
      "\n",
      "Using Ion-Sphere model\n",
      "Ion-sphere model parameters: \n",
      " \n",
      "Spin-polarized                : False\n",
      "Number of electrons           : 13\n",
      "Exchange functional           : lda_x\n",
      "Correlation functional        : lda_c_pw\n",
      "Boundary condition            : dirichlet\n",
      "Unbound electron treatment    : quantum\n",
      "Shift KS potential            : True\n",
      "\n",
      "\n",
      "Starting SCF energy calculation\n",
      " \n",
      "iscf   E_free (Ha)    dE (1.0e-05)   dn (1.0e-04)   dv (1.0e-04)\n",
      "-----------------------------------------------------------------\n",
      "   0   -214.2613678      1.000e+00      9.999e-01      1.000e+00\n",
      "   1   -224.1287308      4.403e-02      1.020e+00      7.395e-01\n",
      "   2   -237.0838116      5.464e-02      8.010e-01      1.768e-01\n",
      "   3   -240.5802234      1.453e-02      9.404e-02      1.131e-01\n",
      "   4   -241.8863718      5.400e-03      6.166e-02      6.938e-02\n",
      "   5   -242.3424262      1.882e-03      3.920e-02      4.115e-02\n",
      "   6   -242.4886946      6.032e-04      2.352e-02      2.356e-02\n",
      "   7   -242.5322455      1.796e-04      1.324e-02      1.338e-02\n",
      "   8   -242.5445522      5.074e-05      7.131e-03      7.621e-03\n",
      "   9   -242.5479634      1.406e-05      3.734e-03      4.662e-03\n",
      "  10   -242.5489063      3.888e-06      1.929e-03      2.971e-03\n",
      "  11   -242.5491703      1.088e-06      1.002e-03      1.949e-03\n",
      "  12   -242.5492637      3.850e-07      5.420e-04      1.268e-03\n",
      "  13   -242.5491952      2.824e-07      3.065e-04      8.885e-04\n",
      "  14   -242.5492886      3.849e-07      1.894e-04      5.834e-04\n",
      "  15   -242.5492005      3.633e-07      1.218e-04      4.358e-04\n",
      "  16   -242.5492206      8.323e-08      8.241e-05      2.749e-04\n",
      "  17   -242.5492196      4.402e-09      5.498e-05      1.929e-04\n",
      "  18   -242.5492671      1.960e-07      3.998e-05      1.939e-04\n",
      "  19   -242.5492180      2.023e-07      2.671e-05      8.307e-05\n",
      "-----------------------------------------------------------------\n",
      "SCF cycle converged\n",
      " \n",
      "Final energies (Ha)\n",
      " \n",
      "---------------------------------------------\n",
      "Kinetic energy                 :   245.0500\n",
      "    orbitals                   :   245.0500\n",
      "    unbound ideal approx.      :     0.0000\n",
      "Electron-nuclear energy        :  -585.8425\n",
      "Hartree energy                 :   119.0009\n",
      "Exchange-correlation energy    :   -17.9879\n",
      "    exchange                   :   -16.9823\n",
      "    correlation                :    -1.0056\n",
      "---------------------------------------------\n",
      "Total energy                   :  -239.7795\n",
      "---------------------------------------------\n",
      "Entropy                        :     7.5369\n",
      "    orbitals                   :     7.5369\n",
      "    unbound ideal approx.      :     0.0000\n",
      "---------------------------------------------\n",
      "Total free energy              :  -242.5493\n",
      "---------------------------------------------\n",
      "\n",
      "Chemical potential             :   0.234\n",
      "Mean ionization state          :   3.011\n",
      " \n",
      "Orbital eigenvalues (Ha) :\n",
      " \n",
      "     |   n=l+1 |       2 |       3 |       4 |       5\n",
      "-----+---------+---------+---------+---------+---------\n",
      " l=0 | -54.614 |  -3.470 |   0.351 |   2.917 |   6.870\n",
      "   1 |  -2.095 |   0.695 |   3.185 |   6.944 |  11.902\n",
      "   2 |   1.115 |   3.241 |   6.500 |  10.930 |  16.512\n",
      " \n",
      "\n",
      "Orbital occupations (2l+1) * f_{nl} :\n",
      " \n",
      "     |   n=l+1 |       2 |       3 |       4 |       5\n",
      "-----+---------+---------+---------+---------+---------\n",
      " l=0 |   2.000 |   2.000 |   0.841 |   0.001 |   0.000\n",
      "   1 |   5.989 |   1.330 |   0.002 |   0.000 |   0.000\n",
      "   2 |   0.834 |   0.003 |   0.000 |   0.000 |   0.000\n",
      " \n",
      "\n",
      "func:'CalcEnergy' took: 14.8500 sec\n"
     ]
    }
   ],
   "source": [
    "# initialize an Aluminium atom\n",
    "Al_atom = Atom(\"Al\",10,density=2.7,units_temp=\"eV\")\n",
    "\n",
    "# initiliaze a model with mostly default parameters - use quantum unbound electrons\n",
    "Al_model = models.ISModel(Al_atom, unbound=\"quantum\")\n",
    "\n",
    "# guess nmax and lmax parameters\n",
    "nmax = 5\n",
    "lmax = 3\n",
    "output = Al_model.CalcEnergy(nmax, lmax, write_info=True)"
   ]
  },
  {
   "cell_type": "markdown",
   "metadata": {},
   "source": [
    "In the above example, we see that `nmax=5` seems to be sufficiently large, but `lmax=3` is not, because the occupation of the $l=2,n=0$ state is 0.834, i.e. significantly above zero. We therefore choose a much larger value of `lmax` to check what is required for convergence. Let us try with $\\textrm{lmax}=10$:"
   ]
  },
  {
   "cell_type": "code",
   "execution_count": 3,
   "metadata": {},
   "outputs": [
    {
     "name": "stdout",
     "output_type": "stream",
     "text": [
      "Starting SCF energy calculation\n",
      " \n",
      "iscf   E_free (Ha)    dE (1.0e-05)   dn (1.0e-04)   dv (1.0e-04)\n",
      "-----------------------------------------------------------------\n",
      "   0   -214.2614028      1.000e+00      9.999e-01      1.000e+00\n",
      "   1   -223.8611169      4.288e-02      1.026e+00      7.419e-01\n",
      "   2   -237.0092088      5.548e-02      8.081e-01      1.794e-01\n",
      "   3   -240.5713901      1.481e-02      9.512e-02      1.149e-01\n",
      "   4   -241.9002978      5.494e-03      6.228e-02      7.116e-02\n",
      "   5   -242.3649516      1.917e-03      3.950e-02      4.145e-02\n",
      "   6   -242.5141096      6.150e-04      2.373e-02      2.386e-02\n",
      "   7   -242.5583698      1.825e-04      1.337e-02      1.341e-02\n",
      "   8   -242.5709202      5.174e-05      7.203e-03      7.764e-03\n",
      "   9   -242.5743811      1.427e-05      3.772e-03      4.762e-03\n",
      "  10   -242.5753301      3.912e-06      1.948e-03      3.041e-03\n",
      "  11   -242.5755910      1.075e-06      1.016e-03      1.999e-03\n",
      "  12   -242.5756616      2.912e-07      5.504e-04      1.342e-03\n",
      "  13   -242.5765560      3.687e-06      3.139e-04      9.159e-04\n",
      "  14   -242.5765602      1.709e-08      1.935e-04      6.324e-04\n",
      "  15   -242.5765598      1.288e-09      1.248e-04      4.406e-04\n",
      "  16   -242.5765585      5.415e-09      8.312e-05      3.089e-04\n",
      "  17   -242.5765572      5.354e-09      5.659e-05      2.176e-04\n",
      "  18   -242.5765562      4.264e-09      3.877e-05      1.537e-04\n",
      "  19   -242.5765554      3.125e-09      2.658e-05      1.089e-04\n",
      "  20   -242.5765549      2.196e-09      1.820e-05      7.729e-05\n",
      "-----------------------------------------------------------------\n",
      "SCF cycle converged\n",
      " \n",
      "Final energies (Ha)\n",
      " \n",
      "---------------------------------------------\n",
      "Kinetic energy                 :   245.1069\n",
      "    orbitals                   :   245.1069\n",
      "    unbound ideal approx.      :     0.0000\n",
      "Electron-nuclear energy        :  -585.7119\n",
      "Hartree energy                 :   118.9172\n",
      "Exchange-correlation energy    :   -17.9809\n",
      "    exchange                   :   -16.9756\n",
      "    correlation                :    -1.0053\n",
      "---------------------------------------------\n",
      "Total energy                   :  -239.6687\n",
      "---------------------------------------------\n",
      "Entropy                        :     7.9127\n",
      "    orbitals                   :     7.9127\n",
      "    unbound ideal approx.      :     0.0000\n",
      "---------------------------------------------\n",
      "Total free energy              :  -242.5766\n",
      "---------------------------------------------\n",
      "\n",
      "Chemical potential             :   0.219\n",
      "Mean ionization state          :   3.011\n",
      " \n",
      "Orbital eigenvalues (Ha) :\n",
      " \n",
      "     |   n=l+1 |       2 |       3 |       4 |       5\n",
      "-----+---------+---------+---------+---------+---------\n",
      " l=0 | -54.623 |  -3.476 |   0.349 |   2.913 |   6.867\n",
      "   1 |  -2.102 |   0.692 |   3.182 |   6.941 |  11.898\n",
      "   2 |   1.112 |   3.237 |   6.496 |  10.926 |  16.508\n",
      "   3 |   2.168 |   5.108 |   9.102 |  14.205 |  20.430\n",
      "   4 |   3.254 |   6.876 |  11.538 |  17.284 |  24.134\n",
      "   5 |   4.446 |   8.710 |  14.004 |  20.368 |  27.824\n",
      "   6 |   5.758 |  10.653 |  16.560 |  23.529 |  31.580\n",
      "   7 |   7.195 |  12.718 |  19.232 |  26.796 |  35.436\n",
      " \n",
      "\n",
      "Orbital occupations (2l+1) * f_{nl} :\n",
      " \n",
      "     |   n=l+1 |       2 |       3 |       4 |       5\n",
      "-----+---------+---------+---------+---------+---------\n",
      " l=0 |   2.000 |   2.000 |   0.825 |   0.001 |   0.000\n",
      "   1 |   5.989 |   1.297 |   0.002 |   0.000 |   0.000\n",
      "   2 |   0.809 |   0.003 |   0.000 |   0.000 |   0.000\n",
      "   3 |   0.069 |   0.000 |   0.000 |   0.000 |   0.000\n",
      "   4 |   0.005 |   0.000 |   0.000 |   0.000 |   0.000\n",
      "   5 |   0.000 |   0.000 |   0.000 |   0.000 |   0.000\n",
      "   6 |   0.000 |   0.000 |   0.000 |   0.000 |   0.000\n",
      "   7 |   0.000 |   0.000 |   0.000 |   0.000 |   0.000\n",
      " \n",
      "\n",
      "func:'CalcEnergy' took: 17.3827 sec\n"
     ]
    }
   ],
   "source": [
    "# re-run the calculation with larger lmax\n",
    "lmax = 10\n",
    "output = Al_model.CalcEnergy(nmax, lmax)"
   ]
  },
  {
   "cell_type": "markdown",
   "metadata": {},
   "source": [
    "In the above, we clearly see that `lmax=10` is more than sufficient; in fact, it seems that `lmax=6` is enough in this case. Next, we shall test the convergence with respect to the number of grid points. We suppress the output from the SCF cycle since we shall run several calculations. If you are running this notebook, be patient as running all the calculations will take some time."
   ]
  },
  {
   "cell_type": "code",
   "execution_count": 4,
   "metadata": {},
   "outputs": [],
   "source": [
    "# set up the grid points to test over\n",
    "ngrid_test = np.arange(500, 4500, 500)\n",
    "\n",
    "# set up array to store the total energy, 1s core energy and chemical potential\n",
    "output_arr = np.zeros((len(ngrid_test), 4))\n",
    "\n",
    "# reset lmax to 6\n",
    "lmax = 6\n",
    "\n",
    "# change into the converence directory\n",
    "os.chdir(basedir + \"/convergence_tests/\")\n",
    "# loop over the ngrid array\n",
    "for i, ngrid in enumerate(ngrid_test):\n",
    "    # set the output to an external file\n",
    "    sys.stdout = open(\"Al_ngrid_\" + str(ngrid) + \".log\", \"w\")\n",
    "    output = Al_model.CalcEnergy(\n",
    "        nmax, lmax, grid_params={\"ngrid\": ngrid}, write_info=False\n",
    "    )\n",
    "    output_arr[i, 0] = ngrid\n",
    "    output_arr[i, 1] = output[\"energy\"].F_tot\n",
    "    output_arr[i, 2] = output[\"orbitals\"].eigvals[0, 0, 0, 0]\n",
    "    output_arr[i, 3] = config.mu\n",
    "\n",
    "os.chdir(basedir) # change back to base directory\n",
    "sys.stdout = default_stdout # change output back to console"
   ]
  },
  {
   "cell_type": "markdown",
   "metadata": {},
   "source": [
    "We tabulate the total energy, core $1s$ energy level and chemical potential $\\mu$ below to check their convergence with respect to the grid size."
   ]
  },
  {
   "cell_type": "code",
   "execution_count": 5,
   "metadata": {},
   "outputs": [
    {
     "name": "stdout",
     "output_type": "stream",
     "text": [
      "   ngrid |    F tot |    e_1s |      mu\n",
      "---------+----------+---------+---------\n",
      "     500 | -243.265 | -54.713 |   0.189\n",
      "    1000 | -242.577 | -54.623 |   0.219\n",
      "    1500 | -242.345 | -54.594 |   0.229\n",
      "    2000 | -242.229 | -54.580 |   0.235\n",
      "    2500 | -242.159 | -54.572 |   0.238\n",
      "    3000 | -242.113 | -54.566 |   0.240\n",
      "    3500 | -242.080 | -54.562 |   0.241\n",
      "    4000 | -242.055 | -54.559 |   0.242\n"
     ]
    }
   ],
   "source": [
    "# import package to make nice tables\n",
    "import tabulate\n",
    "\n",
    "# define table headings\n",
    "headers = [\"ngrid\", \"F tot\", \"e_1s\", \"mu\"]\n",
    "\n",
    "# create table\n",
    "conv_tbl = tabulate.tabulate(\n",
    "    output_arr,\n",
    "    headers,\n",
    "    tablefmt=\"presto\",\n",
    "    floatfmt=[\"4.0f\", \"7.3f\", \"7.3f\", \"7.3f\"],\n",
    "    stralign=\"right\",\n",
    ")\n",
    "print(conv_tbl)"
   ]
  },
  {
   "cell_type": "markdown",
   "metadata": {},
   "source": [
    "The degree of convergence required depends on various factors, such as the error that the user is willing to tolerate and the property that is being computed. In AA models, there are already a number of quite serious approximations which create uncertainty in the results, so typically we can use more relaxed convergence criteria than a full DFT-MD simulation. The property we are interested in for the purposes of this paper is the MIS, which is sensitive to the energy eigenvalues and chemical potential but not the total energy. Furthermore, we aim to benchmark our results agaist experiments which of course have some uncertainty for measurements of the free electron density.\n",
    "\n",
    "With the above factors taken into account, we typically aim for convergence of around $0.01\\ \\textrm{Ha}$ in the core $1s$ energy level and the chemical potential $\\mu$. Based on the above table, this indicates a reasonable choice is `ngrid=3000`. In theory, this number should be checked for each value of temperature and density calculated. In practise, it is reasonable to test it for a few select values in the temperature or density range spanned and interpolate to the other values.\n",
    "\n",
    "As mentioned, when the `bands` boundary condition is used, we must also test convergence with respect to the number of orbitals `nkpts` per band. We perform a similar convergence check to before, only now we shall we probe the lowest energy eigenvalue in the conduction band, instead of the $1s$ core energy level. This is because, under these conditions, the $1s$ level is fully isolated from the neighbouring spheres and so is not part of an energy band."
   ]
  },
  {
   "cell_type": "code",
   "execution_count": 6,
   "metadata": {},
   "outputs": [],
   "source": [
    "# set up the nkpts array\n",
    "nkpts_arr = np.arange(10, 110, 10)\n",
    "\n",
    "# change the boundary condition\n",
    "Al_model.bc = \"bands\"\n",
    "\n",
    "# reset the output array\n",
    "output_arr = np.zeros((len(nkpts_arr), 4))\n",
    "\n",
    "# change to convergence directory\n",
    "os.chdir(basedir + \"/convergence_tests/\")\n",
    "# loop over the nkpts array with a coarse ngrid value (independent)\n",
    "for i, nkpts in enumerate(nkpts_arr):\n",
    "    # set the output to an external file\n",
    "    sys.stdout = open(\"Al_nkpts_\" + str(ngrid) + \".log\", \"w\")\n",
    "    output = Al_model.CalcEnergy(\n",
    "        nmax,\n",
    "        lmax,\n",
    "        grid_params={\"ngrid\": 1000},\n",
    "        write_info=False,\n",
    "        band_params={\"nkpts\": nkpts},\n",
    "    )\n",
    "    output_arr[i, 0] = nkpts\n",
    "    output_arr[i, 1] = output[\"energy\"].F_tot\n",
    "    output_arr[i, 2] = output[\"orbitals\"].eigvals[0, 0, 0, 2]\n",
    "    output_arr[i, 3] = config.mu\n",
    "    \n",
    "os.chdir(basedir) # change back to base directory\n",
    "sys.stdout = default_stdout # change output back to console"
   ]
  },
  {
   "cell_type": "code",
   "execution_count": 7,
   "metadata": {},
   "outputs": [
    {
     "name": "stdout",
     "output_type": "stream",
     "text": [
      "   nkpts |    F tot |     e_c |      mu\n",
      "---------+----------+---------+---------\n",
      "      10 | -243.814 |  -0.131 |  -0.038\n",
      "      20 | -243.859 |  -0.130 |  -0.053\n",
      "      30 | -243.869 |  -0.130 |  -0.057\n",
      "      40 | -243.873 |  -0.130 |  -0.058\n",
      "      50 | -243.876 |  -0.130 |  -0.059\n",
      "      60 | -243.877 |  -0.130 |  -0.059\n",
      "      70 | -243.878 |  -0.130 |  -0.059\n",
      "      80 | -243.878 |  -0.130 |  -0.060\n",
      "      90 | -243.879 |  -0.130 |  -0.060\n",
      "     100 | -243.879 |  -0.130 |  -0.060\n"
     ]
    }
   ],
   "source": [
    "# create table\n",
    "headers = [\"nkpts\", \"F tot\", \"e_c\", \"mu\"]\n",
    "conv_tbl = tabulate.tabulate(\n",
    "    output_arr,\n",
    "    headers,\n",
    "    tablefmt=\"presto\",\n",
    "    floatfmt=[\"4.0f\", \"7.3f\", \"7.3f\", \"7.3f\"],\n",
    "    stralign=\"right\",\n",
    ")\n",
    "print(conv_tbl)"
   ]
  },
  {
   "cell_type": "markdown",
   "metadata": {},
   "source": [
    "We see from the above that, for this example, the quantities of interest are very well converged already with `nkpts=20`. However, the time taken is almost identical regardless of the number of $k$-points used. This is because the computationally dominant step is actually the diagonalization of the Hamiltonian, which is required to find the limits of the band energies. Therefore we are free to choose a relatively large value of `nkpts` without much affect on the computational demands. Typically the default value of `nkpts=50` in atoMEC is a reasonable choice. "
   ]
  },
  {
   "cell_type": "markdown",
   "metadata": {},
   "source": [
    "# Mean ionization state comparisons\n",
    "\n",
    " In this section, we explain how to compute the MIS in atoMEC via the various methods described in the paper. Afterwards, we provide the input (and output) for the calculations that were done in the paper, so that the reader can reproduce these results.\n",
    "\n",
    "## Calculation of MIS using the threshold method\n",
    "\n",
    "As seen in Eq. (1) of the main paper, the MIS can be computed as the integral over all the positive energy states:\n",
    "\n",
    "\\begin{equation}\n",
    "\\bar{Z} = \\int_{v(R_\\textrm{WS})}^\\infty g(\\epsilon) f_\\textrm{FD}(\\epsilon)\\,,\n",
    "\\end{equation}\n",
    "\n",
    "where $g(\\epsilon)$ is the density-of-states (DOS), $f_\\textrm{FD}(\\epsilon)$ the Fermi--Dirac distribution, and $v(R_\\textrm{WS})$ the value of the potential at the Wigner--Seitz (WS) radius.\n",
    "\n",
    "In atoMEC, when `unbound=\"quantum\"`, all the orbitals are treated identically. The integral in the above equation therefore becomes a sum over all the states with energies above $v(R_\\textrm{WS})$,\n",
    "\n",
    "\\begin{equation}\n",
    "\\bar{Z} = 2\\sum_{k,l,n} (2l+1) w_{k} f_{k ln} \\Theta(\\epsilon_{k ln}-v(R_\\textrm{WS}))\\,,\n",
    "\\end{equation}\n",
    "\n",
    "where $\\Theta$ is the Heaviside step function.\n",
    "\n",
    "As was seen in the earlier examples, the MIS calculate via the threshold method is printed by default at the end of every SCF run anyway. It is also a property of the `staticKS.Density` object so can be accessed through that if desired. Let us again run a calculation for Aluminium at ambient conditions:"
   ]
  },
  {
   "cell_type": "code",
   "execution_count": 8,
   "metadata": {},
   "outputs": [
    {
     "name": "stdout",
     "output_type": "stream",
     "text": [
      "Warning: this input temperature is very low. Proceeding anyway, but results may not be accurate. \n",
      "Normal temperature range for atoMEC is 0.01 -- 100 eV \n",
      "\n",
      "func:'CalcEnergy' took: 29.5807 sec\n"
     ]
    }
   ],
   "source": [
    "# first set up and run a calculation\n",
    "# set up the ISModel\n",
    "Al_model = models.ISModel(\n",
    "    Al_atom,\n",
    "    bc=\"dirichlet\",\n",
    "    unbound=\"quantum\",\n",
    "    xfunc_id=\"lda_x\",\n",
    "    cfunc_id=\"lda_c_pw\",\n",
    "    write_info=False,\n",
    ")\n",
    "\n",
    "# reset temperature and density\n",
    "Al_atom.temp = 0.01\n",
    "Al_atom.density = 2.7\n",
    "\n",
    "# set the values of nmax and lmax\n",
    "nmax = 5\n",
    "lmax = 3\n",
    "\n",
    "# run the SCF calculation\n",
    "output = Al_model.CalcEnergy(\n",
    "    nmax,\n",
    "    lmax,\n",
    "    scf_params={\"mixfrac\": 0.6, \"maxscf\": 50},\n",
    "    grid_params={\"ngrid\": 2000},\n",
    "    write_info=False,\n",
    ")"
   ]
  },
  {
   "cell_type": "code",
   "execution_count": 9,
   "metadata": {},
   "outputs": [
    {
     "name": "stdout",
     "output_type": "stream",
     "text": [
      "MIS =  3.0\n"
     ]
    }
   ],
   "source": [
    "# extract the MIS\n",
    "MIS = output[\"density\"].MIS\n",
    "\n",
    "# print the 1st array element (only element in a spin unpolarized calculation)\n",
    "print(\"MIS = \", round(MIS[0], 2))"
   ]
  },
  {
   "cell_type": "markdown",
   "metadata": {},
   "source": [
    "In this case, the MIS computed with the threshold approach is equal to $3.0$, which is the number of orbitals in the conduction band for Aluminium at ambient conditions."
   ]
  },
  {
   "cell_type": "markdown",
   "metadata": {},
   "source": [
    "## Calculation of MIS using the counting method\n",
    "\n",
    "As seen in Eq. (15) of the main paper, the MIS alternatively be computed by subtracting the occupations of the core states (determined by the user) from the total electron number, i.e.\n",
    "\n",
    "\\begin{equation}\n",
    "\\bar{Z} = N_\\textrm{e} - 2\\sum_{k} w_{k} \\sum_{l,n\\in \\textrm{b}} (2l+1) f_{kln} \n",
    "\\end{equation}\n",
    "\n",
    "In atoMEC, this method is accessed via the `postprocessing.localization` module. The core states should be specified by their $l,n$ co-ordinates, where $l$ and $n$ are the quantum numbers. For our Aluminium example, we know the core states are the $1s$, $2s$ and $2p$ states: respectively, these are given by $(0,0)$, $(1,0)$ and $(0,1)$ (in atoMEC, the $n$-index always starts at zero relative to the paired $l$ index). Therefore we have:"
   ]
  },
  {
   "cell_type": "code",
   "execution_count": 11,
   "metadata": {},
   "outputs": [
    {
     "name": "stdout",
     "output_type": "stream",
     "text": [
      "MIS =  3.0\n"
     ]
    }
   ],
   "source": [
    "# extract the orbitals from the output of the SCF calculation\n",
    "Al_orbs = output[\"orbitals\"]\n",
    "\n",
    "# choose the core orbitals - 1s, 2s and 2p\n",
    "core_indices = [(0,0), (1,0), (0,1)]\n",
    "\n",
    "# compute the MIS with the counting method\n",
    "MIS_count = localization.MIS_count(Al_model, Al_orbs, core_indices)\n",
    "print(\"MIS = \", round(MIS[0], 2))"
   ]
  },
  {
   "cell_type": "markdown",
   "metadata": {},
   "source": [
    "In this case, the MIS again yields the expected value of 3."
   ]
  },
  {
   "cell_type": "markdown",
   "metadata": {},
   "source": [
    "## Calculation of MIS using the electron localization function\n",
    "\n",
    "As seen in Eq. (22) of the main paper, the electron localization function for a spherically symmetric system, assuming the approximate form of the second-order gradient expansion for the density, is given by:\n",
    "\n",
    "\\begin{equation}\n",
    "D(r) = D_0(r) - \\frac{1}{9} \\frac{1}{n(r)} \\left| \\frac{\\textrm{d}n(r)}{\\textrm{d}r}\\right|^2 + \\frac{1}{6} \\left(  \\frac{2}{r} \\frac{\\textrm{d}n(r)}{\\textrm{d}r} +  \\frac{\\textrm{d}^2 n(r)}{\\textrm{d}r^2}\\right)\\,.\n",
    "\\end{equation}\n",
    "\n",
    "\n",
    "\n",
    "In atoMEC the ELF is accessed through the `postprocess.localization` module. In the following, we calculate and plot the ELF for our Aluminium example. "
   ]
  },
  {
   "cell_type": "code",
   "execution_count": 12,
   "metadata": {},
   "outputs": [
    {
     "data": {
      "image/png": "[encoded data removed]",
      "text/plain": [
       "<Figure size 373.001x230.527 with 1 Axes>"
      ]
     },
     "metadata": {
      "needs_background": "light"
     },
     "output_type": "display_data"
    }
   ],
   "source": [
    "# import localization module\n",
    "from atoMEC.postprocess import localization\n",
    "\n",
    "# Set up the ELF object\n",
    "# use the \"density\" version of the ELF (uses second order gradient expansion for KED)\n",
    "ELF_Al = localization.ELFTools(output[\"orbitals\"], output[\"density\"], method=\"density\")\n",
    "xgrid = ELF_Al._xgrid\n",
    "rgrid = np.exp(xgrid)\n",
    "\n",
    "# extract the ELF function\n",
    "ELF_func = ELF_Al.ELF\n",
    "\n",
    "# General figure set-up                                                                                                                                                                                        \n",
    "figdims = MIS_plots.fig_initialize(latex=True, setsize=True,fraction=0.8)\n",
    "fig, ax = plt.subplots(1, 1, figsize=(figdims))\n",
    "\n",
    "# plot the ELF function\n",
    "ax.plot(rgrid, ELF_func[0],color=\"midnightblue\")\n",
    "\n",
    "ax.set_xlim(-0.01, 3.01)\n",
    "ax.set_ylim(-0.01, 1.01)\n",
    "ax.set_xlabel(r\"$r\\ (a_0)$\")\n",
    "ax.set_ylabel(r\"ELF$(r)$\")\n",
    "plt.savefig(\"/home/callow46/mean_ionization_paper/figures/ELF_example.pdf\")"
   ]
  },
  {
   "cell_type": "markdown",
   "metadata": {},
   "source": [
    "Note that, if instead one wanted to use the orbital-dependent form of the ELF intstead of the second-order gradient expansion, one should specify `method=\"orbitals\"` in the call to the `ELFTools` object.\n",
    "\n",
    "The next stage is to use the ELF to compute the number of electrons in a given shell. This is done by finding the positions of the minima of the ELF, and integrating the density between them, as explained in the main paper. In atoMEC, we can access this data from the `N_shell` property of the `ELFTools` object:"
   ]
  },
  {
   "cell_type": "code",
   "execution_count": 13,
   "metadata": {},
   "outputs": [
    {
     "name": "stdout",
     "output_type": "stream",
     "text": [
      "The number of electrons in the n = 1 shell = 2.13\n",
      "The number of electrons in the n = 2 shell = 7.72\n",
      "The number of electrons in the n = 3 shell = 3.11\n"
     ]
    }
   ],
   "source": [
    "# extract the number of electrons per shell\n",
    "N_s = ELF_Al.N_shell[0]\n",
    "\n",
    "for i in range(len(N_s)):\n",
    "    print(\"The number of electrons in the n =\", i + 1, \"shell =\", round(N_s[i], 2))"
   ]
  },
  {
   "cell_type": "markdown",
   "metadata": {},
   "source": [
    "These numbers approximately match up to what we expect from ambient Aluminium: 2 electrons in the $n=1$ shell, 8 in the $n=2$ shell, and the remaining 3 electrons in the conduction band (which we call the $n=3$ shell here). As discussed in the main paper, extracting the MIS from this output requires some user input based on physical intuition, to decide which shells should be counted as bound and which free."
   ]
  },
  {
   "cell_type": "markdown",
   "metadata": {},
   "source": [
    "## Calculation of the MIS using the Kubo--Greenwood formula\n",
    "\n",
    "As seen in eqs. (27) and (28) of the main manuscript, the KG conductivity formula in our AA model is given by\n",
    "\n",
    "\\begin{equation}\n",
    "Z_{S_1,S_2} = 4 \\sum_{nl\\in S_1} \\sum_{n'l'\\in S_2} \\sum_{m\\in \\{S_1,S_2\\}} \\frac{f_{nl} - f_{n'l'}}{\\epsilon_{n'l'}-\\epsilon_{nl}}|\\nabla_{nn'll'm}^z|^2 \\delta(l\\pm 1 - l') \\Theta (\\epsilon_{n'l'}-\\epsilon_{nl}),\n",
    "\\end{equation}\n",
    "with\n",
    "\\begin{equation}\n",
    "\\nabla_{nn'll'm}^z = \\langle \\phi_{n'l'm'} | \\nabla_z| \\phi_{nlm} \\rangle\n",
    "\\end{equation}\n",
    "\n",
    "In atoMEC the Kubo--Greenwood functionality is accessed through the `kubo_greenwood` module. We show how to extract the total number of electrons (to check the sum rule is satisfied) and the number of free electrons (i.e. the MIS) below.\n",
    "\n",
    "The orbital subsets are chosen by specifying which orbitals are ''valence'' (this also includes core orbitals, i.e. everything that does not belong to the conduction band). We see how this done below. "
   ]
  },
  {
   "cell_type": "code",
   "execution_count": 14,
   "metadata": {},
   "outputs": [
    {
     "name": "stdout",
     "output_type": "stream",
     "text": [
      "func:'CalcEnergy' took: 180.7633 sec\n"
     ]
    }
   ],
   "source": [
    "# first we re-run the Al calculation with more unoccupied orbitals\n",
    "# this is required because the KG method needs empty orbitals to converge\n",
    "\n",
    "# set the values of nmax and lmax\n",
    "nmax = 25\n",
    "lmax = 10\n",
    "\n",
    "# run the SCF calculation\n",
    "output = Al_model.CalcEnergy(\n",
    "    nmax,\n",
    "    lmax,\n",
    "    scf_params={\"mixfrac\": 0.6, \"maxscf\": 50},\n",
    "    grid_params={\"ngrid\": 2000},\n",
    "    write_info=False,\n",
    ")"
   ]
  },
  {
   "cell_type": "code",
   "execution_count": 15,
   "metadata": {},
   "outputs": [
    {
     "name": "stdout",
     "output_type": "stream",
     "text": [
      "Total number of electrons =  12.95\n",
      "Number of free electrons =  3.29\n"
     ]
    }
   ],
   "source": [
    "# we need to define the 'valence' orbitals, which actually means everything not in the conduction band\n",
    "# for solid Al at room temperature the valence orbitals are 1s, 2s and 2p\n",
    "from atoMEC.postprocess import conductivity\n",
    "valence_orbs = [(0, 0), (1, 0), (0, 1)]\n",
    "\n",
    "# set up the Kubo-Greenwood object\n",
    "kg = conductivity.KuboGreenwood(output[\"orbitals\"], valence_orbs=valence_orbs)\n",
    "\n",
    "# compute the total number of electrons\n",
    "N_tot = kg.N_tot\n",
    "\n",
    "# compute the number of free electrons\n",
    "N_free = kg.N_free\n",
    "\n",
    "# print the output\n",
    "print(\"Total number of electrons = \", round(N_tot, 2))\n",
    "print(\"Number of free electrons = \", round(N_free, 2))"
   ]
  },
  {
   "cell_type": "markdown",
   "metadata": {},
   "source": [
    "In the above example, it can be seen that the total number of electrons equals 12.95, which is very close to the expected value of 13 for Alunimium (less than 1\\% difference). Therefore it seems the values of `nmax` and `lmax` are large enough for the KG calculation to be converged. The number of free electrons is 3.29, which is close to the value of 3 that might be expected from physical intuition."
   ]
  },
  {
   "cell_type": "markdown",
   "metadata": {},
   "source": [
    "# Results\n",
    "\n",
    "In this section, we run through the calculations presented in the paper. In the first sub-section, we run the SCF calculations to get the KS orbitals and density. These are used as inputs for computing the MIS via the different methods, which we run through in the following sub-section. Note that the primary objective of atoMEC is not computationally efficiency, and thus the each SCF calculation may take up to ~20 minutes for the inputs used in the paper. If you wish to run all the SCF calculations, we provide all necessary inputs but we suggest to run the calculations on a separate cluster.\n",
    "\n",
    "\n",
    "## SCF calculations: Carbon\n",
    "\n",
    "In you wish to run the SCF calculations, please set `run_SCF_calcs = True` below:"
   ]
  },
  {
   "cell_type": "code",
   "execution_count": 16,
   "metadata": {},
   "outputs": [],
   "source": [
    "# whether to run the SCF calculations\n",
    "run_SCF_calcs = False"
   ]
  },
  {
   "cell_type": "markdown",
   "metadata": {},
   "source": [
    "First, we set up the calculations for Carbon at $T=100$ eV, under a range of densities."
   ]
  },
  {
   "cell_type": "code",
   "execution_count": 17,
   "metadata": {},
   "outputs": [
    {
     "name": "stdout",
     "output_type": "stream",
     "text": [
      "Warning: this input temperature is very high. Proceeding anyway, but results may not be accurate. \n",
      "Normal temperature range for atoMEC is 0.01 -- 100 eV \n",
      "\n"
     ]
    }
   ],
   "source": [
    "import pickle as pkl\n",
    "\n",
    "# ensure parallelism is on\n",
    "config.numcores = 9\n",
    "# set up the base Carbon atom\n",
    "C_atom = Atom(\"C\", 100, density=1.0, units_temp=\"eV\", write_info=False)\n",
    "# set up the base model\n",
    "model = models.ISModel(C_atom, unbound=\"quantum\", write_info=False)\n",
    "# define the boundary conditions\n",
    "bcs = [\"dirichlet\", \"neumann\", \"bands\"]\n",
    "# define the densities\n",
    "densities = np.array([1, 2, 5, 10, 20, 50, 80, 100, 150, 200, 300, 400], dtype=float)\n",
    "# set the lmax parameter (same for all bcs)\n",
    "lmax = 20\n",
    "# grid parameters\n",
    "grid_params = {\"ngrid\": 3000}\n",
    "# band_parameters\n",
    "band_params = {\"nkpts\": 50}\n",
    "# base directory\n",
    "basedir = \"/home/callow46/mean_ionization_paper\"\n",
    "\n",
    "if run_SCF_calcs:\n",
    "    # loop over boundary conditions\n",
    "    for bc in bcs:\n",
    "        # change into the bc directory\n",
    "        os.chdir(basedir + \"/results/Carbon/\" + bc + \"/\")\n",
    "        # set the boundary condition\n",
    "        model.bc = bc\n",
    "        # dirichlet needs more eigenvalues since empty states required for Kubo-Greenwood\n",
    "        if bc == \"dirichlet\":\n",
    "            nmax = 30\n",
    "        else:\n",
    "            nmax = 20\n",
    "        # loop over the densities\n",
    "        for density in densities:\n",
    "            # set the output to an external file\n",
    "            sys.stdout = open(\"C_\" + str(density) + \".log\", \"w\")\n",
    "            # set the density\n",
    "            C_atom.density = density\n",
    "            # run the SCF calculation\n",
    "            output = model.CalcEnergy(\n",
    "                nmax,\n",
    "                lmax,\n",
    "                grid_params=grid_params,\n",
    "                band_params=band_params,\n",
    "                dos_file=\"dos_\" + str(density) + \".csv\",\n",
    "            )\n",
    "            # save the orbitals and density output\n",
    "            orbfile = \"C_orbs_\" + str(density) + \".pkl\"\n",
    "            densfile = \"C_dens_\" + str(density) + \".pkl\"\n",
    "            with open(orbfile, \"wb\") as f:\n",
    "                pkl.dump(output[\"orbitals\"], f)\n",
    "            with open(densfile, \"wb\") as f:\n",
    "                pkl.dump(output[\"density\"], f)\n",
    "                \n",
    "# reset output to terminal\n",
    "sys.stdout = default_stdout"
   ]
  },
  {
   "cell_type": "markdown",
   "metadata": {},
   "source": [
    "## SCF calculations: Beryllium\n",
    "\n",
    "Next, we set up the calculations for Beryllium with fixed density $\\rho_\\textrm{m} = 1.85\\ \\textrm{g cm}^{-3}$, for a range of temperatures."
   ]
  },
  {
   "cell_type": "code",
   "execution_count": 18,
   "metadata": {},
   "outputs": [],
   "source": [
    "# set up the base Beryllium atom\n",
    "Be_atom = Atom(\"Be\", 1, density=1.85, units_temp=\"eV\", write_info=False)\n",
    "# set up the base model\n",
    "model = models.ISModel(Be_atom, unbound=\"quantum\", write_info=False)\n",
    "# define the temperatures\n",
    "temps = np.arange(2, 86, 4, dtype=float)\n",
    "# set the lmax parameter (same for all bcs)\n",
    "lmax = 15\n",
    "# grid parameters\n",
    "grid_params = {\"ngrid\": 3000}\n",
    "\n",
    "if run_SCF_calcs:\n",
    "    # loop over boundary conditions\n",
    "    for bc in bcs:\n",
    "        # change into the bc directory\n",
    "        os.chdir(basedir + \"/results/Beryllium/\" + bc + \"/\")\n",
    "        # set the boundary condition\n",
    "        model.bc = bc\n",
    "        # dirichlet needs more eigenvalues since empty states required for Kubo-Greenwood\n",
    "        if bc == \"dirichlet\":\n",
    "            nmax = 30\n",
    "        else:\n",
    "            nmax = 15\n",
    "        if bc == \"bands\":\n",
    "            nkpts = 50\n",
    "        else:\n",
    "            nkpts = 1\n",
    "        # loop over the densities\n",
    "        for temp in temps:\n",
    "            # set the output to an external file\n",
    "            sys.stdout = open(\"Be_\" + str(temp) + \".log\", \"w\")\n",
    "            # set the density\n",
    "            Be_atom.temp = temp\n",
    "            # run the SCF calculation\n",
    "            output = model.CalcEnergy(\n",
    "                nmax,\n",
    "                lmax,\n",
    "                grid_params=grid_params,\n",
    "                band_params={\"nkpts\": nkpts},\n",
    "            )\n",
    "            # save the orbitals and density output\n",
    "            orbfile = \"Be_orbs_\" + str(temp) + \".pkl\"\n",
    "            densfile = \"Be_dens_\" + str(temp) + \".pkl\"\n",
    "            with open(orbfile, \"wb\") as f:\n",
    "                pkl.dump(output[\"orbitals\"], f, protocol=pkl.HIGHEST_PROTOCOL)\n",
    "            with open(densfile, \"wb\") as f:\n",
    "                pkl.dump(output[\"density\"], f, protocol=pkl.HIGHEST_PROTOCOL)\n",
    "\n",
    "# reset output to terminal\n",
    "sys.stdout = default_stdout"
   ]
  },
  {
   "cell_type": "markdown",
   "metadata": {},
   "source": [
    "## SCF calculations: Aluminium (i)\n",
    "\n",
    "We first run the necessary SCF calculations for the first Aluminium experiment, for which the density is fixed at $2.7 \\textrm{g cm}^{-3}$ and the temperature is varied between 10 and 30 eV."
   ]
  },
  {
   "cell_type": "code",
   "execution_count": 19,
   "metadata": {},
   "outputs": [],
   "source": [
    "# set up the base Aluninium atom\n",
    "Al_atom = Atom(\"Al\", 10, density=2.7, units_temp=\"eV\", write_info=False)\n",
    "# set up the base model\n",
    "model = models.ISModel(Al_atom, unbound=\"quantum\", write_info=False)\n",
    "# define the temperatures\n",
    "temps = np.arange(10, 36, 1, dtype=float)\n",
    "# grid parameters\n",
    "grid_params = {\"ngrid\": 3000}\n",
    "\n",
    "if run_SCF_calcs:\n",
    "    # loop over boundary conditions\n",
    "    for bc in bcs:\n",
    "        # change into the bc directory\n",
    "        os.chdir(basedir + \"/results/Aluminium/expt_comp_1/\" + bc + \"/\")\n",
    "        # set the boundary condition\n",
    "        model.bc = bc\n",
    "        # dirichlet needs more eigenvalues since empty states required for Kubo-Greenwood\n",
    "        if bc == \"dirichlet\":\n",
    "            nmax = 30\n",
    "            lmax = 20\n",
    "        else:\n",
    "            nmax = 10\n",
    "            lmax = 15\n",
    "        if bc == \"bands\":\n",
    "            nkpts = 50\n",
    "        else:\n",
    "            nkpts = 1\n",
    "        # loop over the densities\n",
    "        for temp in temps:\n",
    "            # set the output to an external file\n",
    "            sys.stdout = open(\"Al_\" + str(temp) + \".log\", \"w\")\n",
    "            # set the density\n",
    "            Al_atom.temp = temp\n",
    "            # run the SCF calculation\n",
    "            output = model.CalcEnergy(\n",
    "                nmax,\n",
    "                lmax,\n",
    "                grid_params=grid_params,\n",
    "                band_params={\"nkpts\": nkpts},\n",
    "            )\n",
    "            # save the orbitals and density output\n",
    "            orbfile = \"Al_orbs_\" + str(temp) + \".pkl\"\n",
    "            densfile = \"Al_dens_\" + str(temp) + \".pkl\"\n",
    "            with open(orbfile, \"wb\") as f:\n",
    "                pkl.dump(output[\"orbitals\"], f, protocol=pkl.HIGHEST_PROTOCOL)\n",
    "            with open(densfile, \"wb\") as f:\n",
    "                pkl.dump(output[\"density\"], f, protocol=pkl.HIGHEST_PROTOCOL)\n",
    "            \n",
    "\n",
    "# reset output to terminal\n",
    "sys.stdout = default_stdout"
   ]
  },
  {
   "cell_type": "markdown",
   "metadata": {},
   "source": [
    "## SCF calculations: Aluminium (ii)\n",
    "\n",
    "We first run the necessary SCF calculations for the first Aluminium experiment, for which the density is fixed at $2.7\\ \\textrm{g cm}^{-3}$ and the temperature is varied between 0 and 100 eV. Because we span a wider range of temperatures in this run compared to the last, we need to use larger values of `nmax` and `lmax` to include more orbitals."
   ]
  },
  {
   "cell_type": "code",
   "execution_count": 20,
   "metadata": {},
   "outputs": [],
   "source": [
    "# no need to re-define the atom or model this time\n",
    "# define the temperatures\n",
    "temps = np.arange(0, 105, 5, dtype=float)\n",
    "temps[0] = 0.01  # redefine so we don't have zero temperature\n",
    "# grid parameters\n",
    "grid_params = {\"ngrid\": 3000}\n",
    "# universal lmax\n",
    "lmax = 20\n",
    "\n",
    "if run_SCF_calcs:\n",
    "    # loop over boundary conditions\n",
    "    for bc in bcs:\n",
    "        # change into the bc directory\n",
    "        os.chdir(basedir + \"/results/Aluminium/expt_comp_2/\" + bc + \"/\")\n",
    "        # set the boundary condition\n",
    "        model.bc = bc\n",
    "        # dirichlet needs more eigenvalues since empty states required for Kubo-Greenwood\n",
    "        if bc == \"dirichlet\":\n",
    "            nmax = 40\n",
    "        else:\n",
    "            nmax = 20\n",
    "        if bc == \"bands\":\n",
    "            nkpts = 50\n",
    "        else:\n",
    "            nkpts = 1\n",
    "        # loop over the densities\n",
    "        for temp in temps:\n",
    "            # set the output to an external file\n",
    "            sys.stdout = open(\"Al_\" + str(temp) + \".log\", \"w\")\n",
    "            # set the density\n",
    "            Al_atom.temp = temp\n",
    "            # run the SCF calculation\n",
    "            output = model.CalcEnergy(\n",
    "                nmax,\n",
    "                lmax,\n",
    "                grid_params=grid_params,\n",
    "                band_params={\"nkpts\": nkpts},\n",
    "            )\n",
    "            # save the orbitals and density output\n",
    "            orbfile = \"Al_orbs_\" + str(temp) + \".pkl\"\n",
    "            densfile = \"Al_dens_\" + str(temp) + \".pkl\"\n",
    "            with open(orbfile, \"wb\") as f:\n",
    "                pkl.dump(output[\"orbitals\"], f, protocol=pkl.HIGHEST_PROTOCOL)\n",
    "            with open(densfile, \"wb\") as f:\n",
    "                pkl.dump(output[\"density\"], f, protocol=pkl.HIGHEST_PROTOCOL)\n",
    "\n",
    "# reset output to terminal\n",
    "sys.stdout = default_stdout"
   ]
  },
  {
   "cell_type": "markdown",
   "metadata": {},
   "source": [
    "## Mean ionization state calculations: Carbon\n",
    "\n",
    "We now proceed to compute the MIS via the three methods discussed. As mentioned, both the ELF and KG methods need some user-defined input to determine which orbitals should be treated as bound vs free (for the ELF method), or conduction or valence vs conduction (for the KG method). For Carbon under the conditions we probe, we take the $1s$ orbital (or band) as the valence band for the KG method; similarly, for the ELF method, we assume that the electron density in this band (i.e. the $n=1$ principle quantum level) is bound and that the remaining electron density is free."
   ]
  },
  {
   "cell_type": "code",
   "execution_count": 30,
   "metadata": {},
   "outputs": [
    {
     "name": "stdout",
     "output_type": "stream",
     "text": [
      "Warning: this input temperature is very high. Proceeding anyway, but results may not be accurate. \n",
      "Normal temperature range for atoMEC is 0.01 -- 100 eV \n",
      "\n"
     ]
    },
    {
     "name": "stderr",
     "output_type": "stream",
     "text": [
      "/home/callow46/atoMEC/atoMEC/postprocess/localization.py:224: RuntimeWarning: divide by zero encountered in true_divide\n",
      "  epdc = D_0 - (grad_dens) ** 2.0 / (9.0 * density) + lap_dens / 6.0\n"
     ]
    }
   ],
   "source": [
    "# set up the base Carbon atom\n",
    "C_atom = Atom(\"C\", 100, density=1.0, units_temp=\"eV\", write_info=False)\n",
    "# set up the base model\n",
    "model = models.ISModel(C_atom, unbound=\"quantum\", write_info=False)\n",
    "# define the boundary conditions\n",
    "bcs = [\"dirichlet\", \"neumann\", \"bands\"]\n",
    "# define the densities\n",
    "densities = np.array([1, 2, 5, 10, 20, 50, 80, 100, 150, 200, 300, 400], dtype=float)\n",
    "# base directory\n",
    "basedir = \"/home/callow46/mean_ionization_paper\"\n",
    "\n",
    "# set up empty MIS arrays\n",
    "MIS_thresh = np.zeros((len(densities),4))\n",
    "MIS_ELF = np.zeros((len(densities),4))\n",
    "MIS_kg = np.zeros((len(densities),3))\n",
    "MIS_count = np.zeros((len(densities),4))\n",
    "MIS_ELF[:, 0] = densities\n",
    "MIS_kg[:, 0] = densities\n",
    "MIS_count[:,0] = densities\n",
    "\n",
    "# loop over boundary conditions\n",
    "for i, bc in enumerate(bcs, 1):\n",
    "    # change into the bc directory\n",
    "    os.chdir(basedir + \"/results/Carbon/\" + bc + \"/\")\n",
    "    # set the boundary condition\n",
    "    model.bc = bc\n",
    "    # loop over the densities\n",
    "    for j, density in enumerate(densities):\n",
    "        # save the orbitals and density output\n",
    "        orbfile = \"C_orbs_\" + str(density) + \".pkl\"\n",
    "        densfile = \"C_dens_\" + str(density) + \".pkl\" \n",
    "        logfile = \"C_\" + str(density) + \".log\"\n",
    "        C_atom.density = density\n",
    "        with open(orbfile, \"rb\") as f:\n",
    "            orbs = pkl.load(f)\n",
    "        with open(densfile, \"rb\") as f:\n",
    "            dens = pkl.load(f)\n",
    "        # set up input params        \n",
    "        config.band_params[\"nkpts\"], config.spindims, config.lmax, config.nmax = np.shape(orbs.eigvals)\n",
    "        # compute the MIS with threshold method\n",
    "        MIS_thresh[j, i] = dens.MIS\n",
    "        # compute the MIS with ELF method\n",
    "        ELF = localization.ELFTools(orbs, dens, method=\"density\")\n",
    "        N_ub_shell = ELF.N_shell[0]\n",
    "        N_tot = sum(N_ub_shell)\n",
    "        MIS_ELF[j, i] = N_tot - N_ub_shell[0]\n",
    "        MIS_count[j, i] = localization.MIS_count(model, orbs, [(0,0)])\n",
    "        # compute the MIS with KG method\n",
    "        if bc == \"dirichlet\":\n",
    "            # set up the Kubo-Greenwood object\n",
    "            kg = conductivity.KuboGreenwood(orbs, valence_orbs=[(0,0)])\n",
    "            # check the sum rule is satisfied\n",
    "            MIS_kg[j, 1] = kg.N_tot\n",
    "            MIS_kg[j, 2] = kg.N_free\n",
    "    \n",
    "# save the results\n",
    "os.chdir(basedir + \"/results/Carbon/\")\n",
    "header=(\"Density (g/cm^3), Z (dirichlet), Z (Neumann), Z (bands)\")\n",
    "np.savetxt(\"MIS_thresh.csv\", MIS_thresh, fmt='%8.4f', header=header, delimiter=\",\")\n",
    "np.savetxt(\"MIS_ELF.csv\", MIS_ELF, fmt='%8.4f', header=header, delimiter=\",\")\n",
    "np.savetxt(\"MIS_count.csv\", MIS_count, fmt='%8.4f', header=header, delimiter=\",\")\n",
    "header=(\"Density (g/cm^3), N total, Z (dirichlet)\")\n",
    "np.savetxt(\"MIS_kg.csv\", MIS_kg, fmt='%8.4f', header=header, delimiter=\",\")"
   ]
  },
  {
   "cell_type": "markdown",
   "metadata": {},
   "source": [
    "The results of the MIS calculations can be examined using the `csv` files saved in the above code.\n",
    "\n",
    "## Mean ionization state calculations: Beryllium\n",
    "\n",
    "For Beryllium under the conditions we probe, we take the $1s$ orbital (or band) as the valence band for the KG method; similarly, for the ELF method, we assume that the electron density in this band (i.e. the 𝑛=1 principle quantum level) is bound and that the remaining electron density is free."
   ]
  },
  {
   "cell_type": "code",
   "execution_count": 31,
   "metadata": {},
   "outputs": [],
   "source": [
    "# set up the base Beryllium atom\n",
    "Be_atom = Atom(\"Be\", 1, density=1.85, units_temp=\"eV\", write_info=False)\n",
    "# set up the base model\n",
    "model = models.ISModel(Be_atom, unbound=\"quantum\", write_info=False)\n",
    "# define the temperatures\n",
    "temps = np.arange(2, 86, 4, dtype=float)\n",
    "\n",
    "# set up empty MIS arrays\n",
    "MIS_thresh = np.zeros((len(temps),4))\n",
    "MIS_ELF = np.zeros((len(temps),4))\n",
    "MIS_kg = np.zeros((len(temps),3))\n",
    "MIS_count = np.zeros((len(temps),4))\n",
    "MIS_thresh[:, 0] = temps\n",
    "MIS_ELF[:, 0] = temps\n",
    "MIS_kg[:, 0] = temps\n",
    "MIS_count[:,0] = temps\n",
    "\n",
    "# loop over boundary conditions\n",
    "for i, bc in enumerate(bcs, 1):\n",
    "    # change into the bc directory\n",
    "    os.chdir(basedir + \"/results/Beryllium/\" + bc + \"/\")\n",
    "    # set the boundary condition\n",
    "    model.bc = bc\n",
    "    # loop over the temperatures\n",
    "    for j, temp in enumerate(temps):\n",
    "        # set the temperature\n",
    "        Be_atom.temp = temp\n",
    "        # load the orbitals and density output\n",
    "        orbfile = \"Be_orbs_\" + str(temp) + \".pkl\"\n",
    "        densfile = \"Be_dens_\" + str(temp) + \".pkl\"\n",
    "        with open(orbfile, \"rb\") as f:\n",
    "            orbs = pkl.load(f)\n",
    "        with open(densfile, \"rb\") as f:\n",
    "            dens = pkl.load(f)\n",
    "        logfile = \"Be_\" + str(temp) + \".log\"\n",
    "        # set up input params        \n",
    "        config.band_params[\"nkpts\"], config.spindims, config.lmax, config.nmax = np.shape(orbs.eigvals)\n",
    "        # compute the MIS with threshold method\n",
    "        MIS_thresh[j, i] = dens.MIS\n",
    "        # compute the MIS with ELF method\n",
    "        ELF = localization.ELFTools(orbs, dens, method=\"density\")\n",
    "        N_ub_shell = ELF.N_shell[0]\n",
    "        N_tot = sum(N_ub_shell)\n",
    "        MIS_ELF[j, i] = N_tot - N_ub_shell[0]\n",
    "        MIS_count[j, i] = localization.MIS_count(model, orbs, [(0,0)])\n",
    "        # compute the MIS with KG method\n",
    "        if bc == \"dirichlet\":\n",
    "            # set up the Kubo-Greenwood object\n",
    "            kg = conductivity.KuboGreenwood(orbs, valence_orbs=[(0,0)])\n",
    "            # check the sum rule is satisfied\n",
    "            MIS_kg[j, 1] = kg.N_tot\n",
    "            MIS_kg[j, 2] = kg.N_free\n",
    "    \n",
    "# save the results\n",
    "os.chdir(basedir + \"/results/Beryllium/\")\n",
    "header=(\"Temperature (eV), Z (dirichlet), Z (Neumann), Z (bands)\")\n",
    "np.savetxt(\"MIS_thresh.csv\", MIS_thresh, fmt='%8.4f', header=header, delimiter=\",\")\n",
    "np.savetxt(\"MIS_ELF.csv\", MIS_ELF, fmt='%8.4f', header=header, delimiter=\",\")\n",
    "np.savetxt(\"MIS_count.csv\", MIS_count, fmt='%8.4f', header=header, delimiter=\",\")\n",
    "header=(\"Temperature (eV) , N total, Z (dirichlet)\")\n",
    "np.savetxt(\"MIS_kg.csv\", MIS_kg, fmt='%8.4f', header=header, delimiter=\",\")"
   ]
  },
  {
   "cell_type": "markdown",
   "metadata": {},
   "source": [
    "The results of the MIS calculations can be examined using the `csv` files saved in the above code. \n",
    "\n",
    "To convert from the MIS to the free electron density, one can use the expression $n_\\textrm{f} = (Z / N_\\textrm{e}) * n_\\textrm{e}$, where $n_\\textrm{e}$ is the total electron density, and $N_\\textrm{e}$ the total electron number. The total electron density (in cm$^{-3}$) is given by"
   ]
  },
  {
   "cell_type": "code",
   "execution_count": 32,
   "metadata": {},
   "outputs": [
    {
     "name": "stdout",
     "output_type": "stream",
     "text": [
      "Total electron density per cm^3 = 4.909e+23\n"
     ]
    }
   ],
   "source": [
    "# compute the volume in cm^3\n",
    "from atoMEC import unitconv\n",
    "radius_cm = Be_atom.radius * 1e-8 / unitconv.angstrom_to_bohr\n",
    "Be_vol = (4/3) * np.pi * radius_cm**3\n",
    "n_e =  Be_atom.nele / Be_vol\n",
    "print(\"Total electron density per cm^3 = {n_e:7.3e}\".format(n_e = n_e))"
   ]
  },
  {
   "cell_type": "markdown",
   "metadata": {},
   "source": [
    "## Mean ionization state calculations: Aluminium (i)\n",
    "\n",
    "For Aluminium under the conditions we probe, we take the $1𝑠,\\ 2s,\\ \\textrm{and}\\ 2p$ orbitals (or band) as the valence band for the KG method; similarly, for the ELF method, we assume that the electron density in the $n=1$ and $n=2$ principle quantum levels is bound and that the remaining electron density is free."
   ]
  },
  {
   "cell_type": "code",
   "execution_count": 33,
   "metadata": {},
   "outputs": [],
   "source": [
    "# set up the base Aluninium atom\n",
    "Al_atom = Atom(\"Al\", 10, density=2.7, units_temp=\"eV\", write_info=False)\n",
    "# set up the base model\n",
    "model = models.ISModel(Al_atom, unbound=\"quantum\", write_info=False)\n",
    "# define the temperatures\n",
    "temps = np.arange(10, 36, 1, dtype=float)\n",
    "# set up empty MIS arrays\n",
    "MIS_thresh = np.zeros((len(temps),4))\n",
    "MIS_ELF = np.zeros((len(temps),4))\n",
    "MIS_kg = np.zeros((len(temps),3))\n",
    "MIS_count = np.zeros((len(temps),4))\n",
    "MIS_thresh[:, 0] = temps\n",
    "MIS_ELF[:, 0] = temps\n",
    "MIS_kg[:, 0] = temps\n",
    "MIS_count[:,0] = temps\n",
    "\n",
    "# loop over boundary conditions\n",
    "for i, bc in enumerate(bcs, 1):\n",
    "    # change into the bc directory\n",
    "    os.chdir(basedir + \"/results/Aluminium/expt_comp_1/\" + bc + \"/\")\n",
    "    # set the boundary condition\n",
    "    model.bc = bc\n",
    "    # loop over the temperatures\n",
    "    for j, temp in enumerate(temps):\n",
    "        # set the temperature\n",
    "        # load the orbitals and density output\n",
    "        orbfile = \"Al_orbs_\" + str(temp) + \".pkl\"\n",
    "        densfile = \"Al_dens_\" + str(temp) + \".pkl\"\n",
    "        with open(orbfile, \"rb\") as f:\n",
    "            orbs = pkl.load(f)\n",
    "        with open(densfile, \"rb\") as f:\n",
    "            dens = pkl.load(f)\n",
    "        logfile = \"Al_\" + str(temp) + \".log\"\n",
    "        # set up input params        \n",
    "        config.band_params[\"nkpts\"], config.spindims, config.lmax, config.nmax = np.shape(orbs.eigvals)\n",
    "        # compute the MIS with threshold method\n",
    "        MIS_thresh[j, i] = dens.MIS\n",
    "        # compute the MIS with ELF method\n",
    "        ELF = localization.ELFTools(orbs, dens, method=\"density\")\n",
    "        N_ub_shell = ELF.N_shell[0]\n",
    "        N_tot = sum(N_ub_shell)\n",
    "        MIS_ELF[j, i] = N_tot - (N_ub_shell[0] + N_ub_shell[1])\n",
    "        MIS_count[j, i] = localization.MIS_count(model, orbs, [(0,0), (0,1), (1,0)])\n",
    "        if bc == \"dirichlet\":\n",
    "            # set up the Kubo-Greenwood object\n",
    "            kg = conductivity.KuboGreenwood(orbs, valence_orbs=[(0,0), (0,1), (1,0)])\n",
    "            # check the sum rule is satisfied\n",
    "            MIS_kg[j, 1] = kg.N_tot\n",
    "            MIS_kg[j, 2] = kg.N_free\n",
    "    \n",
    "# save the results\n",
    "os.chdir(basedir + \"/results/Aluminium/expt_comp_1\")\n",
    "header=(\"Temperature (eV), Z (dirichlet), Z (Neumann), Z (bands)\")\n",
    "np.savetxt(\"MIS_thresh.csv\", MIS_thresh, fmt='%8.4f', header=header, delimiter=\",\")\n",
    "np.savetxt(\"MIS_ELF.csv\", MIS_ELF, fmt='%8.4f', header=header, delimiter=\",\")\n",
    "np.savetxt(\"MIS_count.csv\", MIS_count, fmt='%8.4f', header=header, delimiter=\",\")\n",
    "header=(\"Temperature (eV), N total, Z (dirichlet)\")\n",
    "np.savetxt(\"MIS_kg.csv\", MIS_kg, fmt='%8.4f', header=header, delimiter=\",\")"
   ]
  },
  {
   "cell_type": "markdown",
   "metadata": {},
   "source": [
    "The results of the MIS calculations can be examined using the `csv` files saved in the above code. To convert from the MIS to the free electron density, the following code can be used."
   ]
  },
  {
   "cell_type": "code",
   "execution_count": 34,
   "metadata": {},
   "outputs": [
    {
     "name": "stdout",
     "output_type": "stream",
     "text": [
      "Total electron density per cm^3 = 7.778e+23\n"
     ]
    }
   ],
   "source": [
    "# compute the volume in cm^3\n",
    "radius_cm = Al_atom.radius * 1e-8 / unitconv.angstrom_to_bohr\n",
    "Al_vol = (4/3) * np.pi * radius_cm**3\n",
    "n_e =  Al_atom.nele / Al_vol\n",
    "print(\"Total electron density per cm^3 = {n_e:7.3e}\".format(n_e = n_e))"
   ]
  },
  {
   "cell_type": "markdown",
   "metadata": {},
   "source": [
    "## Mean ionization state calculations: Aluminium (ii)\n",
    "\n",
    "For Aluminium under the conditions we probe, we take the $1𝑠,\\ 2s,\\ \\textrm{and}\\ 2p$ orbitals (or band) as the valence band for the KG method; similarly, for the ELF method, we assume that the electron density in the $n=1$ and $n=2$ principle quantum levels is bound and that the remaining electron density is free.\n",
    "\n",
    "In this case, as described in the main text, we do not just compute the MIS but also the excitation energy $E_K$. We define this excitation energy as the difference between the $1s$ energy level and the value of the potential at the sphere boundary $v_\\textrm{s}(R_\\textrm{VS})$; we then shift this energy by a constant, where the value of the constant is the difference between the excitation energy and the experimentally measured ionization energy at zero temperature $\\Delta E^0_K$. In atoMEC, the orbital energies are by default defined relative to  $v_\\textrm{s}(R_\\textrm{VS})$, so the excitation energy is defined as $E_K = - \\epsilon_{1s} + \\Delta E^0_K$.\n",
    "\n",
    "The experimental value of $E_K^0$ (i.e. the $K$-th ionization energy at zero temperature) is equal to 1559.6 eV \\cite{thompson2001x}. The value of $E_K^0$ can be extracted from the $T = 0.01\\ \\textrm{eV}$ data point (effectively zero temperature) for each of the boundary conditions from the SCF calculations performed already."
   ]
  },
  {
   "cell_type": "code",
   "execution_count": 35,
   "metadata": {},
   "outputs": [],
   "source": [
    "# get conversion from hartree to eV\n",
    "from atoMEC import unitconv\n",
    "ha_to_eV = 1. / unitconv.ev_to_ha\n",
    "# set up the base Aluninium atom\n",
    "Al_atom = Atom(\"Al\", 10, density=2.7, units_temp=\"eV\", write_info=False)\n",
    "# set up the base model\n",
    "model = models.ISModel(Al_atom, unbound=\"quantum\", write_info=False)\n",
    "# define the temperatures\n",
    "temps = np.arange(0, 105, 5, dtype=float)\n",
    "temps[0] = 0.01  # redefine so we don't have zero temperature\n",
    "# set up empty MIS arrays\n",
    "MIS_thresh = np.zeros((len(temps),4))\n",
    "MIS_ELF = np.zeros((len(temps),4))\n",
    "MIS_kg = np.zeros((len(temps),3))\n",
    "MIS_count = np.zeros((len(temps),4))\n",
    "MIS_thresh[:, 0] = temps\n",
    "MIS_ELF[:, 0] = temps\n",
    "MIS_kg[:, 0] = temps\n",
    "MIS_count[:,0] = temps\n",
    "# set up empty E_k array\n",
    "E_K = np.zeros((len(temps),4))\n",
    "E_K[:, 0] = temps\n",
    "\n",
    "# loop over boundary conditions\n",
    "for i, bc in enumerate(bcs, 1):\n",
    "    # change into the bc directory\n",
    "    os.chdir(basedir + \"/results/Aluminium/expt_comp_2/\" + bc + \"/\")\n",
    "    # set the boundary condition\n",
    "    model.bc = bc\n",
    "    # loop over the temperatures\n",
    "    for j, temp in enumerate(temps):\n",
    "        # set the temperature\n",
    "        # load the orbitals and density output\n",
    "        orbfile = \"Al_orbs_\" + str(temp) + \".pkl\"\n",
    "        densfile = \"Al_dens_\" + str(temp) + \".pkl\"\n",
    "        with open(orbfile, \"rb\") as f:\n",
    "            orbs = pkl.load(f)\n",
    "        with open(densfile, \"rb\") as f:\n",
    "            dens = pkl.load(f)\n",
    "        logfile = \"Al_\" + str(temp) + \".log\"\n",
    "        # set up input params        \n",
    "        config.band_params[\"nkpts\"], config.spindims, config.lmax, config.nmax = np.shape(orbs.eigvals)\n",
    "        # compute the MIS with threshold method\n",
    "        MIS_thresh[j, i] = dens.MIS\n",
    "        # compute the MIS with ELF method\n",
    "        ELF = localization.ELFTools(orbs, dens, method=\"density\")\n",
    "        N_ub_shell = ELF.N_shell[0]\n",
    "        N_tot = sum(N_ub_shell)\n",
    "        MIS_ELF[j, i] = N_tot - (N_ub_shell[0] + N_ub_shell[1])\n",
    "        MIS_count[j, i] = localization.MIS_count(model, orbs, [(0,0), (0,1), (1,0)])\n",
    "        # compute the MIS with KG method\n",
    "        if bc == \"dirichlet\":\n",
    "            # set up the Kubo-Greenwood object\n",
    "            kg = conductivity.KuboGreenwood(orbs, valence_orbs=[(0,0), (0,1), (1,0)])\n",
    "            # check the sum rule is satisfied\n",
    "            MIS_kg[j, 1] = kg.N_tot\n",
    "            MIS_kg[j, 2] = kg.N_free\n",
    "        \n",
    "        # compute the excitation energies\n",
    "        if temp == 0.01:\n",
    "            # define the energy shift\n",
    "            E_shift =  ha_to_eV * orbs.eigvals[0,0,0,0] + 1559.6\n",
    "        E_K[j, i] = - ha_to_eV * orbs.eigvals[0,0,0,0] + E_shift\n",
    "             \n",
    "# save the results\n",
    "os.chdir(basedir + \"/results/Aluminium/expt_comp_2\")\n",
    "header = (\"Temperature (eV), Z (Dirichlet), Z (Neumann), Z (bands)\")\n",
    "np.savetxt(\"MIS_thresh.csv\", MIS_thresh, fmt='%8.4f', header=header, delimiter=\",\")\n",
    "np.savetxt(\"MIS_ELF.csv\", MIS_ELF, fmt='%8.4f', header=header, delimiter=\",\")\n",
    "np.savetxt(\"MIS_count.csv\", MIS_count, fmt='%8.4f', header=header, delimiter=\",\")\n",
    "header = (\"Temperature (eV), N total, Z (dirichlet)\")\n",
    "np.savetxt(\"MIS_kg.csv\", MIS_kg, fmt='%8.4f', header=header, delimiter=\",\")\n",
    "header = (\"Temperature (eV), E_K (Dirichlet), E_K (Neumann), E_K (bands)\")\n",
    "np.savetxt(\"E_K.csv\", E_K, fmt='%11.4f', header=header, delimiter=\",\")"
   ]
  }
 ],
 "metadata": {
  "kernelspec": {
   "display_name": "atoMEC (pipenv)",
   "language": "python",
   "name": "atomec-pipenv"
  },
  "language_info": {
   "codemirror_mode": {
    "name": "ipython",
    "version": 3
   },
   "file_extension": ".py",
   "mimetype": "text/x-python",
   "name": "python",
   "nbconvert_exporter": "python",
   "pygments_lexer": "ipython3",
   "version": "3.8.0"
  }
 },
 "nbformat": 4,
 "nbformat_minor": 5
}
